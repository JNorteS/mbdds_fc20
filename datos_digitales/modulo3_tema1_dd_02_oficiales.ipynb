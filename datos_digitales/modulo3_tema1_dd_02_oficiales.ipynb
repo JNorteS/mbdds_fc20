{
  "cells": [
    {
      "cell_type": "markdown",
      "metadata": {
        "id": "VcZilmU1g705"
      },
      "source": [
        "\n",
        "# **Gestión de datos y datos digitales**\n",
        "### **Autor: Ferran Carrascosa Mallafrè**\n",
        "\n",
        "---\n",
        "---\n",
        "\n",
        "<!-- script html for image -->\n",
        "\n",
        "<center>\n",
        "\n",
        "\n",
        "<img src=\"https://upload.wikimedia.org/wikipedia/commons/thumb/c/c9/Star_Wars%2C_%C3%A9pisode_III_-_La_Revanche_des_Sith_logo.jpg/220px-Star_Wars%2C_%C3%A9pisode_III_-_La_Revanche_des_Sith_logo.jpg\"  width=\"500\" height=\"150\"/>\n",
        "\n",
        "\n",
        "<br>\n",
        "\n",
        "Fuente de la imagen: [https://es.wikipedia.org](https://es.wikipedia.org/wiki/Star_Wars:_Episodio_III_-_La_venganza_de_los_Sith)\n",
        "\n",
        "</center>\n",
        "\n",
        "<br>"
      ]
    },
    {
      "cell_type": "markdown",
      "metadata": {
        "id": "ugR7xTPQhGG8"
      },
      "source": [
        "# **Índice**\n",
        "\n",
        "---\n",
        "---\n",
        "\n",
        "> [Gestión de datos y datos digitales](#scrollTo=Gesti_n_de_datos_y_datos_digitales)\n",
        "<br>\n",
        ">>\n",
        ">> [\n",
        "1.3. Fuentes de datos externas oficiales (INE, EUROSTAT...)](#scrollTo=1_3_Fuentes_de_datos_externas_oficiales_INE_EUROSTAT_) \\\\\n",
        ">>\n",
        ">>> [API - PCAXIS](#scrollTo=API_PCAXIS) \\\\\n",
        ">>>\n",
        ">>> [1.3.2. Oficina Estadística de la Comisión Europea (EUROSTAT)](#scrollTo=1_3_2_Oficina_Estad_stica_de_la_Comisi_n_Europea_EUROSTAT_) \\\\\n",
        ">>>\n",
        ">>> [1.3.3. Datos abiertos del Banco Mundial (WORLD BANK DATA)](#scrollTo=1_3_3_Datos_abiertos_del_Banco_Mundial_WORLD_BANK_DATA_)\n"
      ]
    },
    {
      "cell_type": "markdown",
      "metadata": {
        "id": "qerS_mORdWs7"
      },
      "source": [
        "## 1.3. Fuentes de datos externas oficiales (INE, EUROSTAT...)\n",
        "\n",
        "<br>\n",
        "\n",
        "Las fuentes de datos oficiales son un gran recurso para enriquecer la calidad de los datos utilizados dentro de nuestro análisis.\n",
        "\n",
        "Supone una fuente de datos fiables, exhaustivos, tanto en temática como en ámbito geográfico, y habitualmente se pueden actualizar de forma recurrente.\n",
        "\n",
        "Este tema se centra en la exploración de 3 fuentes de datos de 3 ámbitos:\n",
        "\n",
        "<br>\n",
        "\n",
        "- **Nacional**: Instituto Nacional de Estadística ([INE](https://www.ine.es/)).\n",
        "- **Europeo**: Oficina estadística de la Comisión Europea ([EUROSTAT](https://ec.europa.eu/eurostat)).\n",
        "- **Global**: Datos abiertos del Banco Mundial ([WORLD DATA BANK](https://data.worldbank.org/)).\n",
        "\n",
        "<br>\n",
        "\n",
        "##### Actividad guiada 1.1.\n",
        "\n",
        "<br>\n",
        "\n",
        "Con el objetivo de obtener datos relacionados con nuestra saga cinematográfica favorita, Star Wars, se pide buscar estadísticas en 2 sentidos:\n",
        "\n",
        "<br>\n",
        "\n",
        "- Analizar el volumen de población en cada región, por tramos de edad, con el objetivo de invertir más o menos presupuesto de publicidad.\n",
        "- Conocer el volumen de facturación de la industria cinematográfica por año.\n",
        "\n",
        "<br>\n",
        "\n",
        "\\<piensa un minuto\\>La Clasificación Nacional de Actividades Económicas ([CNAE](https://www.ine.es/uc/IqQUWcoZ)) es utilizada por las oficinas estadísticas y está uniformizada por toda la Unión Europea. Permite identificar 630 actividades económicas distintas agrupadas de forma jerárquica en 2, 3 y 4 dígitos. Las \"Actividades cinematográficas, de vídeo y de programas de televisión\" tiene el epígrafe **\"591\"**. Puedes ver el listado completo en el siguiente [enlace](https://www.ine.es/daco/daco42/clasificaciones/cnae09/estructura_cnae2009.xls)\\ del INE</piensa un minuto\\>\n",
        "\n",
        "<br>\n",
        "\n",
        "### 1.3.1. Instituto Nacional de Estadística (INE)\n",
        "\n",
        "<br>\n",
        "\n",
        "El INE es un organismo del estado Español con un papel destacado en la actividad estadística pública. Realiza los censos demográficos, económicos, las cuentas nacionales, estadísticas demográficas y sociales, indicadores económicos y sociales, coordinación y mantenimiento de los directorios de empresas, formación del Censo Electoral,...\n",
        "\n",
        "Además, regula las relaciones con las oficinas de estadística territoriales y con la Oficina Estadística de la Unión Europea (EUROSTAT).\n",
        "\n",
        "El INE ha creado el espacio **Datos abiertos**, accesible tanto a través de la web del INE: [www.ine.es/datosabiertos](www.ine.es/datosabiertos), como a través del portal [datos.gob.es](http://datos.gob.es/). Los conjuntos de datos y aplicaciones más relevantes son:\n",
        "\n",
        "<br>\n",
        "\n",
        "- Información estadística elaborada por el INE y publicada en [INEbase](https://www.ine.es/dyngs/INEbase/listaoperaciones.htm): Permite acceder a los resultados agregados de las estadísticas por temas.\n",
        "- [Microdatos](https://www.ine.es/prodyser/microdatos.htm) anonimizados de encuestas: Permite acceder a los datos obtenidos de algunas encuestas a nivel de registros (microdatos) de forma anónima. En general consiste en ficheros de texto, con columnas en formato de ancho fijo. Su lectura requiere el uso de un diccionario, que especifica el significado de cada variable.\n",
        "- [Callejero](https://www.ine.es/prodyser/callejero/) de censo electoral: Contiene el catálogo de calles, números de calle y códigos postales en España.\n",
        "- [API JSON](https://www.ine.es/dyngs/DataLab/manual.html?cid=45): Especifica una API de consulta de los datos de INEbase y Tempus3.\n",
        "\n",
        "<br>\n",
        "\n",
        "#### INEBASE\n",
        "\n",
        "<br>\n",
        "\n",
        "Los datos de [INEbase](https://www.ine.es/dyngs/INEbase/listaoperaciones.htm) se pueden consumir directamente desde la web. El procedimiento es simple. Se navega por el árbol temático para seleccionar aquellos datos que puedan ser de nuestro interés.\n",
        "\n",
        "Para nuestra actividad vamos a centrarnos en los apartados de \"Demografía y población\" y \"Economía\".\n",
        "\n",
        "<br>\n",
        "\n",
        "##### Demografía y población\n",
        "\n",
        "<br>\n",
        "\n",
        "Tenemos 2 apartados de nuestro interés:\n",
        "\n",
        "<br>\n",
        "\n",
        "- Padrón. Población por municipios:\n",
        "   - Estadística del Padrón continuo: (01/01/2020)\n",
        "- Cifras de población y Censos demográficos\n",
        "   - Cifras de población: (Datos provisionales 01/01/2020)\n",
        "\n",
        "<br>\n",
        "\n",
        "El **Padrón Municipal**, es un **registro** donde constan los vecinos del municipio. Su gestión está al cargo de los respectivos ayuntamientos. Se publican cada 1 de Enero e informan los totales de población hasta nivel inframunicipal de sección censal.\n",
        "\n",
        "\\<sabías que\\>Sección censal es la unidad mínima de información estadística. Se utiliza parar organizar los procesos electorales. Agrupan entre 1.500 y 2.000 habitantes.\\</sabías que\\>\n",
        "\n",
        "<br>\n",
        "\n",
        "A su vez, las **Cifras de Población** son una operación estadística. Utiliza distintas encuestas para elaborar las cifras oficiales de población. Se publican los datos de forma semestral a nivel de provincia.\n",
        "\n",
        "Para nuestra actividad, nos centramos en la [Estadística del Padrón continuo](https://www.ine.es/dyngs/INEbase/es/operacion.htm?c=Estadistica_C&cid=1254736177012&menu=ultiDatos&idp=1254734710990) > Resultados > Comunidades autónomas y provincias > [2.3 Población por edad (grupos quinquenales) y sexo](https://www.ine.es/jaxi/Tabla.htm?path=/t20/e245/p04/provi/l0/&file=0ccaa003.px&L=0)\n",
        "\n",
        "<br>\n",
        "\n",
        "![](https://github.com/griu/mbdds_fc20/blob/master/datos_digitales/www/01_ine.png?raw=1){width=750px}\n",
        "\n",
        "\\<imagen1\\>Imagen: Padrón continuo (Fuente: [INE](https://www.ine.es) ). (www/01_ine.png){width=750px}\n",
        "\n",
        "\n",
        "<br>\n",
        "\n",
        "Se selecciona \"Ambos sexos\", todas las Comunidades y Edades.\n",
        "\n",
        "<br>\n",
        "\n",
        "![](https://github.com/griu/mbdds_fc20/blob/master/datos_digitales/www/02_ine.png?raw=1){width=750px}\n",
        "\n",
        "\\<imagen1\\>Imagen: Población por Comunidad y Edad (Fuente: [INE](https://www.ine.es) ). (www/02_ine.png){width=750px}\n",
        "\n",
        "<br>\n",
        "\n",
        "Posteriormente el formulario permite descargar los datos en distintos formatos (csv, Excel...), así como generar gráficos y mapas:\n",
        "\n",
        "<br>\n",
        "\n",
        "![](https://github.com/griu/mbdds_fc20/blob/master/datos_digitales/www/03_ine.png?raw=1){width=750px}\n",
        "\n",
        "\\<imagen1\\>Imagen: Población de 10-14 años (Fuente: [INE](https://www.ine.es) ). (www/03_ine.png){width=750px}\n",
        "\n",
        "<br>\n",
        "\n",
        "En el siguiente punto se muestra como descargar los datos directamente desde Python mediante la API JSON del INE. Con este objetivo se obtiene la url de los datos:\n",
        "\n",
        "<br>\n",
        "\n",
        "- Botón de flecha de Descarga\n",
        "- Json\n",
        "- Se abre una ventana y copiamos la url: `https://servicios.ine.es/wstempus/js/es/DATOS_TABLA//t20/e245/p04/provi/l0/0ccaa003.px?tip=AMtv=sexo:ambossexos`\n",
        "\n",
        "<br>\n",
        "\n",
        "#### API JSON\n",
        "\n",
        "\n",
        "Abre 2.9. Gestión de datos en Colab\n",
        "\n",
        "<br>\n",
        "\n",
        "La [API JSON del INE](https://www.ine.es/dyngs/DataLab/manual.html?cid=45) permite acceder, mediante peticiones URL, a toda la información disponible en [INEbase](https://www.ine.es/dyngs/INEbase/listaoperaciones.htm). Las consultas a la API, según la fuente, pueden ser de dos tipos:\n",
        "\n",
        "<br>\n",
        "\n",
        "- **Base de datos de difusión (Tempus3)**: Datos principales publicados de forma periódica.\n",
        "- **Repositorio de ficheros PC-Axis**: Resto de datos.\n",
        "\n",
        "<br>\n",
        "\n",
        "Para comprender el funcionamiento de cada una veamos dos ejemplos:\n",
        "\n",
        "<br>\n",
        "\n",
        "##### API - Tempus3\n",
        "\n",
        "<br>\n",
        "\n",
        "Descargamos la \"Serie original. Índice general, por sectores y por ramas de actividad\" disponible en la URL: [https://www.ine.es/jaxiT3/Tabla.htm?t=25891](https://www.ine.es/jaxiT3/Tabla.htm?t=25891).\n",
        "\n",
        "<br>\n",
        "\n",
        "- Buscamos \"cinematográficas\" en la caja \"Sectores y ramas de actividad\", botón `Enter`, Seleccionamos \"59 Actividades cinematográficas, de vídeo y de programas de televisión, grabación de sonido y edición musical\".\n",
        "- Seleccionamos \"Índice\"\n",
        "- Seleccionamos todos los periodos\n",
        "\n",
        "<br>\n",
        "\n",
        "![](https://github.com/griu/mbdds_fc20/blob/master/datos_digitales/www/04_ine.png?raw=1){width=750px}\n",
        "\n",
        "\\<imagen1\\>Imagen: Índice Actividades cinematográficas (Fuente: [INE](https://www.ine.es) ). (www/04_ine.png){width=750px}\n",
        "\n",
        "<br>\n",
        "\n",
        "- Consultar selección\n",
        "- Botón Descargar (flecha superior derecha)\n",
        "- Json\n",
        "\n",
        "<br>\n",
        "\n",
        "![](https://github.com/griu/mbdds_fc20/blob/master/datos_digitales/www/05_ine.png?raw=1){width=750px}\n",
        "\n",
        "\\<imagen1\\>Imagen: Descarga Índice Actividades cinematográficas (Fuente: [INE](https://www.ine.es) ). (www/05_ine.png){width=750px}\n",
        "\n",
        "- A continuación se abre una ventana con la siguiente url: `https://servicios.ine.es/wstempus/js/es/DATOS_TABLA/25891?tip=AM&tv=387:17588&tv=3:83`\n",
        "- Para poder generar la petición desde Python en primer lugar, se cargan las librerías y se declara la variable con la url.\n",
        "\n",
        "<br>\n"
      ]
    },
    {
      "cell_type": "code",
      "execution_count": null,
      "metadata": {
        "id": "feVgIr-UdWtC"
      },
      "outputs": [],
      "source": [
        "from urllib.request import urlretrieve\n",
        "from urllib.request import urlopen\n",
        "import json\n",
        "import pandas as pd\n",
        "import numpy as np\n",
        "\n",
        "urlTempus3 = \"https://servicios.ine.es/wstempus/js/es/DATOS_TABLA/25891?tip=AM&tv=387:17588&tv=3:83\"\n"
      ]
    },
    {
      "cell_type": "markdown",
      "metadata": {
        "id": "xnskeShfdWtD"
      },
      "source": [
        "<br>\n",
        "\n",
        "- Se descarga el contenido de la URL y lo pasamos a formato json.\n",
        "\n",
        "<br>\n"
      ]
    },
    {
      "cell_type": "code",
      "execution_count": null,
      "metadata": {
        "id": "Uhsx9UXbdWtD"
      },
      "outputs": [],
      "source": [
        "result = json.load(urlopen(urlTempus3))\n",
        "\n"
      ]
    },
    {
      "cell_type": "markdown",
      "metadata": {
        "id": "qJmAOPxFdWtD"
      },
      "source": [
        "<br>\n",
        "\n",
        "- Se transforma de json a pandas.\n",
        "- Se ordena por el campo fecha.\n",
        "- Se genera el índice de fecha (con frecuencia mensual).\n",
        "- Se eliminan los valores faltantes.\n",
        "- Se selecciona la serie a partir de enero de 2018 en adelante.\n",
        "\n",
        "<br>\n"
      ]
    },
    {
      "cell_type": "code",
      "execution_count": null,
      "metadata": {
        "id": "Mw64hk1qdWtE"
      },
      "outputs": [],
      "source": [
        "df=pd.DataFrame(result[0][\"Data\"]).sort_values(by=[\"Fecha\"])\n",
        "#df.index = pd.to_datetime(np.array(df[\"Fecha\"], dtype=np.datetime64)).to_period('D')\n",
        "df.index = pd.to_datetime(np.array(df[\"Fecha\"], dtype=np.datetime64)).to_period('M')\n",
        "df = df[df['Valor'].notna()]\n",
        "df = df['2018-01':]\n"
      ]
    },
    {
      "cell_type": "markdown",
      "metadata": {
        "id": "Y86UZkb6dWtE"
      },
      "source": [
        "<br>\n",
        "\n",
        "- Se genera el plot para visualizar la serie.\n",
        "\n",
        "<br>\n"
      ]
    },
    {
      "cell_type": "code",
      "execution_count": null,
      "metadata": {
        "id": "MbaStcBfdWtF"
      },
      "outputs": [],
      "source": [
        "df.Valor.plot.line(title='Indice de Actividades cinematograficas')\n",
        "\n"
      ]
    },
    {
      "cell_type": "markdown",
      "metadata": {
        "id": "17T1xX6YdWtF"
      },
      "source": [
        "<br>\n",
        "\n",
        "##### API - PCAXIS\n",
        "\n",
        "<br>\n",
        "\n",
        "Los datos que se van a descargar a continuación son los datos vistos en la sección de Demografía y población.\n",
        "\n",
        "<br>\n",
        "\n",
        "- Recuperamos la url obtenida anteriormente.\n",
        "- Se descargan los datos con urllib.\n",
        "\n",
        "<br>\n"
      ]
    },
    {
      "cell_type": "code",
      "execution_count": null,
      "metadata": {
        "id": "3AOxN2LNdWtG"
      },
      "outputs": [],
      "source": [
        "urlPCAxis = \"https://servicios.ine.es/wstempus/js/es/DATOS_TABLA//t20/e245/p04/provi/l0/0ccaa003.px?tip=AMtv=sexo:ambossexos\"\n",
        "\n",
        "result = json.load(urlopen(urlPCAxis))\n"
      ]
    },
    {
      "cell_type": "markdown",
      "metadata": {
        "id": "qeK43KnXdWtG"
      },
      "source": [
        "<br>\n",
        "\n",
        "Después de analizar el contenido json, se ha transformado a pandas filtrando que los datos correspondan con \"Ambos sexos\" y del total Nacional.\n",
        "\n",
        "<br>\n"
      ]
    },
    {
      "cell_type": "code",
      "execution_count": null,
      "metadata": {
        "id": "_a5LGHq2dWtG"
      },
      "outputs": [],
      "source": [
        "df = pd.DataFrame([x[\"Nombre\"].split(\",\")+ [x[\"Data\"][0][\"Valor\"]] for x in result if \"Ambos sexos\" in x[\"Nombre\"] and \"TOTAL ESPAÑA\" in x[\"Nombre\"]])\n",
        "df.shape\n"
      ]
    },
    {
      "cell_type": "markdown",
      "metadata": {
        "id": "9CrkV-5xdWtG"
      },
      "source": [
        "<br>\n",
        "\n",
        "Posteriormente, se etiquetan los datos, se selecciona la edad y se realiza un plot para visualizar los datos.\n",
        "\n",
        "<br>\n"
      ]
    },
    {
      "cell_type": "code",
      "execution_count": null,
      "metadata": {
        "id": "FJnnmYzGdWtH"
      },
      "outputs": [],
      "source": [
        "df.columns = [\"Genero\",\"Region\",\"Edad\",\"Valor\"]\n",
        "df.index = df[\"Edad\"]\n",
        "df[df.index!=\" Total\"].Valor.plot.bar(title=\"Poblacion 1 Enero 2020 por tramo de Edad\")\n"
      ]
    },
    {
      "cell_type": "markdown",
      "metadata": {
        "id": "FkkUf-6_dWtH"
      },
      "source": [
        "<br>\n",
        "\n",
        "### 1.3.2. Oficina Estadística de la Comisión Europea (EUROSTAT)\n",
        "\n",
        "<br>\n",
        "\n",
        "La Oficina Estadística de la Unión Europea (EUROSTAT), tiene como misión proveer estadísticas y datos de alta calidad sobre Europa.\n",
        "\n",
        "Para cumplir con este objetivo, participa con el rol de coordinador dentro del European Statistical System (ESS), conjuntamente con el resto de oficinas estadísticas oficiales de los estados del Área Económica Europea y Suiza. Además, se coordina con otros organismos superiores como el World Data Bank.  \n",
        "\n",
        "El EUROSTAT trabaja para que exista un alto grado de armonización de los distintos estudios estadísticos realizados por los estados de Europa. Gracias a esta armonización existe un gran número de indicadores socioeconómicos y demográficos comparables entre los estados.\n",
        "\n",
        "<br>\n",
        "\n",
        "#### Bases de datos\n",
        "\n",
        "<br>\n",
        "\n",
        "Los datos de EUROSTAT, de forma temática en [Estadísticas por temas](https://ec.europa.eu/eurostat/data/statistical-themes): Estadística regionales, Economía y finanzas...\n",
        "\n",
        "<br>\n",
        "\n",
        "##### Tablas resumen\n",
        "\n",
        "<br>\n",
        "\n",
        "Estas estadísticas, al igual que en el INE, se pueden consultar desde la web en formato de tablas agregadas y posteriormente descargar los datos en distintos formatos.\n",
        "\n",
        "<br>\n",
        "\n",
        "##### Ficheros de microdatos\n",
        "\n",
        "<br>\n",
        "\n",
        "Otro apartado relevante, son los [ficheros de microdatos](https://ec.europa.eu/eurostat/web/microdata/overview). Estos datos permiten acceder a datos individuales sobre las respuestas a las encuestas estadísticas (raw data). Algunos ejemplos de interés son: [Encuesta de ingresos y condiciones de vida](https://ec.europa.eu/eurostat/web/microdata/statistics-on-income-and-living-conditions) o  [Encuesta de la fuerza laboral](https://ec.europa.eu/eurostat/web/microdata/labour-force-survey).\n",
        "\n",
        "<br>\n",
        "\n",
        "##### API REST\n",
        "\n",
        "<br>\n",
        "\n",
        "Finalmente, EUROSTAT también ofrece una [API REST](https://wikis.ec.europa.eu/display/EUROSTATHELP/API+Statistics+-+data+query). Esta API se puede llamar bajo la siguiente estructura:\n",
        "\n",
        "<br>\n",
        "\n",
        "![](https://github.com/griu/mbdds_fc20/blob/master/datos_digitales/www/image_10.png?raw=1){width=750px}\n",
        "\n",
        "\\<imagen1\\>Imagen: La petición REST (Fuente: [EUROSTAT](https://ec.europa.eu/eurostat) ). (www/image_10.png){width=750px}\n",
        "\n",
        "<br>\n",
        "\n",
        "Dónde la llamada:\n",
        "\n",
        "<br>\n",
        "\n",
        "- *{host_url}/{service}/{version}/{response_type}/{datasetCode}?{format}&{lang}&{filters}*\n",
        "\n",
        "<br>\n",
        "\n",
        "Con parámetros:\n",
        "\n",
        "<br>\n",
        "\n",
        "- host_url, service, version: Parte fija de la llamada.\n",
        "- response_type: Actualmente sólo datos estadísticos (data/).\n",
        "- lang: Idioma de los metadatos (en/fr/de).\n",
        "- datasetCode: Código único identificados de la consulta de datos.\n",
        "- format: Formato de retorno de los datos (json o unicode).\n",
        "- lang: Idioma, opcional (&lang=EN).\n",
        "- filters: Ambito de la consulta. Cada consulta tiene un límite de 50 sub-indicadores por consulta.\n",
        "\n",
        "<br>\n",
        "\n",
        "Veamos un ejemplo de consulta del conjunto de datos \"nama_10_gdp\" para:\n",
        "\n",
        "<br>\n",
        "\n",
        "- Periodo: 2010 y 2011.\n",
        "- Geo: European Union (28 países).\n",
        "- Indicador de Contabilidad nacional: B1GQ – Gross domestic product at market prices.\n",
        "- Unidad : CP_MEUR - Precios correinte, Millon de Euros.\n",
        "\n",
        "<br>\n"
      ]
    },
    {
      "cell_type": "code",
      "execution_count": null,
      "metadata": {
        "id": "F0lDPZbCdWtH"
      },
      "outputs": [],
      "source": [
        "urlEUROSTAT = \"https://ec.europa.eu/eurostat/api/dissemination/statistics/1.0/data/nama_10_gdp?format=JSON&freq=A&unit=CP_MEUR&na_item=B1GQ&geo=EU28&time=2010&time=2011\"\n",
        "\n",
        "result = json.load(urlopen(urlEUROSTAT))\n",
        "\n",
        "print(result[\"dimension\"])\n"
      ]
    },
    {
      "cell_type": "markdown",
      "metadata": {
        "id": "lsTzC7pldWtI"
      },
      "source": [
        "Como en el caso del INE, resulta difícil configurar una llamada. Para facilitar esta tarea, existe un [generador de consultas](https://ec.europa.eu/eurostat/web/query-builder/tool). El dato de entrada requerido es el nombre del dataset, que se puede buscar con el buscador de [Estadísticas por temas](https://ec.europa.eu/eurostat/databrowser/explore/all/all_themes?lang=en).\n",
        "\n",
        "<br>\n",
        "\n",
        "##### La librería de Python Eurostat\n",
        "\n",
        "<br>\n",
        "\n",
        "Por último, para facilitar la explotación de datos de Eurostat, resulta extremadamente útil la librería eurostat de python.\n",
        "\n",
        "Con ella se puede obtener fácilmente las temáticas y sus códigos de tablas.\n",
        "\n",
        "<br>\n"
      ]
    },
    {
      "cell_type": "code",
      "execution_count": null,
      "metadata": {
        "id": "IyUoW_5WgX-D"
      },
      "outputs": [],
      "source": [
        "# !pip install eurostat"
      ]
    },
    {
      "cell_type": "code",
      "execution_count": null,
      "metadata": {
        "id": "HWp344PNdWtI"
      },
      "outputs": [],
      "source": [
        "import eurostat\n",
        "\n",
        "toc_df = eurostat.get_toc_df()\n",
        "\n",
        "toc_df.head()\n"
      ]
    },
    {
      "cell_type": "markdown",
      "metadata": {
        "id": "V8loQ1aodWtI"
      },
      "source": [
        "<br>\n",
        "\n",
        "Para nuestra actividad, se filtran los temas que contengan la palabra \"cinema\".\n",
        "\n",
        "<br>\n"
      ]
    },
    {
      "cell_type": "code",
      "execution_count": null,
      "metadata": {
        "id": "Y37wNdQFdWtJ"
      },
      "outputs": [],
      "source": [
        "toc_df[(toc_df.type==\"dataset\")&(toc_df.title.str.contains(\"cinema\"))][['code']]\n",
        "\n"
      ]
    },
    {
      "cell_type": "markdown",
      "metadata": {
        "id": "v8D6yCNtdWtJ"
      },
      "source": [
        "<br>\n",
        "\n",
        "Busca en Google el código: *eurostat hlth_ds010*. El resultado es la página de Eurostat: [Frequency of going to cinema, live performances, cultural sites or attending live sport events by level of activity limitation, sex and age] (https://ec.europa.eu/eurostat/databrowser/view/hlth_ds010/default/table?lang=en)\n",
        "\n",
        "Una vez analizados los datos, filtramos la estadística del % de población por país que cumple:\n",
        "\n",
        "<br>\n",
        "\n",
        "- Personas de edad entre 16 y 29 años.\n",
        "- Van al cine (AC521), doce o más veces.\n",
        "- Países: Bélgica, Alemania, España, Francia, Italia, Reino Unido o Portugal.\n",
        "\n",
        "<br>\n"
      ]
    },
    {
      "cell_type": "code",
      "execution_count": null,
      "metadata": {
        "id": "107twVen9o7y"
      },
      "outputs": [],
      "source": [
        "df = eurostat.get_data_df(\"hlth_ds010\", flags=False)\n",
        "\n",
        "df.head()"
      ]
    },
    {
      "cell_type": "code",
      "execution_count": null,
      "metadata": {
        "id": "eJnXTQGd8Pjd"
      },
      "outputs": [],
      "source": [
        "paises = ['BE', 'DE','ES', 'FR','IT','UK', 'PT']\n",
        "\n",
        "cinema = df[(df.age==\"Y16-29\") & (df.frequenc==\"GT12\") & (df.sex==\"T\") & (df.lev_limit==\"NONE\") & (df.acl00==\"AC521\") & (df[\"geo\\TIME_PERIOD\"].isin(paises))]\n",
        "\n",
        "cinema.index= cinema[\"geo\\TIME_PERIOD\"]\n",
        "\n",
        "cinema.index.names=[\"%Pob\"]\n",
        "\n",
        "cinema.head()"
      ]
    },
    {
      "cell_type": "code",
      "execution_count": null,
      "metadata": {
        "id": "FY2NP84pdWtJ"
      },
      "outputs": [],
      "source": [
        "\n",
        "cinema.plot.bar(title='% van al cine más de 12 veces al año')\n"
      ]
    },
    {
      "cell_type": "markdown",
      "metadata": {
        "id": "4XF5TTGBdWtK"
      },
      "source": [
        "<br>\n",
        "\n",
        "El resultado, no obstante el año del estudio es 2006, nos muestra que España era un país perfecto para la industria del Cine, ya que tenía la mayor proporción de población de este colectivo.\n",
        "\n",
        "<br>\n",
        "\n",
        "### 1.3.3. Datos abiertos del Banco Mundial (WORLD BANK DATA)\n",
        "\n",
        "<br>\n",
        "\n",
        "El [World Bank Data](https://data.worldbank.org/), en los últimos años, de la mano del auge del [Open Data](https://en.wikipedia.org/wiki/Open_data), se ha convertido en una herramienta muy potente para comparar las estadísticas de los países y analizar su evolución.\n",
        "\n",
        "<br>\n",
        "\n",
        "#### Estructura WBD\n",
        "\n",
        "<br>\n",
        "\n",
        "La estructura es muy similar al resto de oficinas estadísticas oficiales:\n",
        "\n",
        "- Un [navegador temático](https://databank.worldbank.org/home.aspx): Permite visualizar datos agregados y descargar datos en distintos formatos.\n",
        "- Acceso a [microdatos](https://microdata.worldbank.org/index.php/home): Para acceder a datos individualizados de encuesta.\n",
        "- Acceso por [API](https://datahelpdesk.worldbank.org/knowledgebase/topics/125589) para desarrolladores.\n",
        "\n",
        "<br>\n",
        "\n",
        "#### Librería world_bank_data\n",
        "\n",
        "<br>\n",
        "\n",
        "Existen varias alternativas para explotar WBD des de Python. A continuación se muestra el uso de world_bank_data.\n",
        "\n",
        "Para obtener el listado de temas.\n",
        "\n",
        "<br>\n"
      ]
    },
    {
      "cell_type": "code",
      "execution_count": null,
      "metadata": {
        "id": "ESHIBfj_gimd"
      },
      "outputs": [],
      "source": [
        "# !pip install world_bank_data"
      ]
    },
    {
      "cell_type": "code",
      "execution_count": null,
      "metadata": {
        "id": "CqB68O_udWtK"
      },
      "outputs": [],
      "source": [
        "import pandas as pd\n",
        "import world_bank_data as wb\n",
        "\n",
        "wb.get_topics()[\"value\"]\n"
      ]
    },
    {
      "cell_type": "markdown",
      "metadata": {
        "id": "1jo4fprgdWtK"
      },
      "source": [
        "<br>\n",
        "\n",
        "Si nos centramos en el tema 14-\"Science & Technology\", vemos los sub-temas disponibles.\n",
        "\n",
        "<br>\n"
      ]
    },
    {
      "cell_type": "code",
      "execution_count": null,
      "metadata": {
        "id": "0gzkSz51dWtL"
      },
      "outputs": [],
      "source": [
        "wb.get_indicators(topic=14)[\"name\"]\n",
        "\n"
      ]
    },
    {
      "cell_type": "markdown",
      "metadata": {
        "id": "ANwLLKj_dWtM"
      },
      "source": [
        "<br>\n",
        "\n",
        "A continuación, para seleccionar un tema de interés, se selecciona los datos del % de gasto en I+D sobre el PIB (id = GB.XPD.RSDV.GD.ZS) en España.\n",
        "\n",
        "<br>\n"
      ]
    },
    {
      "cell_type": "code",
      "execution_count": null,
      "metadata": {
        "id": "3CZHR4KTdWtM"
      },
      "outputs": [],
      "source": [
        "ImasD = wb.get_series('GB.XPD.RSDV.GD.ZS', country=\"ES\")\n",
        "ImasD.index = [x[2] for x in ImasD.index.values]\n",
        "ImasD[ImasD.notna()]\n"
      ]
    },
    {
      "cell_type": "markdown",
      "metadata": {
        "id": "OHNGX1oDdWtN"
      },
      "source": [
        "<br>\n",
        "\n",
        "La serie va de 1996 hasta 2018. Gráficamente.\n",
        "\n",
        "<br>\n"
      ]
    },
    {
      "cell_type": "code",
      "execution_count": null,
      "metadata": {
        "id": "xFMmNOlhdWtN"
      },
      "outputs": [],
      "source": [
        "ImasD.plot.line()\n",
        "\n"
      ]
    },
    {
      "cell_type": "markdown",
      "metadata": {
        "id": "VaWn45mZdWtO"
      },
      "source": [
        "<br>\n",
        "\n",
        "Se observa como posterior a la crisis de 2010, las inversiones en I+D bajan hasta que se empieza a recuperar en 2016 hasta el último año observado, 2018.\n"
      ]
    }
  ],
  "metadata": {
    "anaconda-cloud": "",
    "colab": {
      "provenance": [],
      "toc_visible": true
    },
    "gpuClass": "standard",
    "kernelspec": {
      "display_name": "mbdds_rpy20",
      "language": "python",
      "name": "mbdds_rpy20"
    },
    "language_info": {
      "codemirror_mode": {
        "name": "ipython",
        "version": 3
      },
      "file_extension": ".py",
      "mimetype": "text/x-python",
      "name": "python",
      "nbconvert_exporter": "python",
      "pygments_lexer": "ipython3",
      "version": "3.9.12"
    }
  },
  "nbformat": 4,
  "nbformat_minor": 0
}
