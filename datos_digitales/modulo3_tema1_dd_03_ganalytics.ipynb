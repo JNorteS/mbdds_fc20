{
 "cells": [
  {
   "cell_type": "markdown",
   "metadata": {
    "id": "eJfiC-K0VViA"
   },
   "source": [
    "\n",
    "# **Gestión de datos y datos digitales**\n",
    "### **Autor: Ferran Carrascosa Mallafrè**\n",
    "\n",
    "---\n",
    "---\n",
    "\n",
    "<!-- script html for image -->\n",
    "\n",
    "<center>\n",
    "\n",
    "\n",
    "<img src=\"https://upload.wikimedia.org/wikipedia/commons/thumb/c/c9/Star_Wars%2C_%C3%A9pisode_III_-_La_Revanche_des_Sith_logo.jpg/220px-Star_Wars%2C_%C3%A9pisode_III_-_La_Revanche_des_Sith_logo.jpg\"  width=\"500\" height=\"150\"/>\n",
    "\n",
    "\n",
    "<br>\n",
    "\n",
    "Fuente de la imagen: [https://es.wikipedia.org](https://es.wikipedia.org/wiki/Star_Wars:_Episodio_III_-_La_venganza_de_los_Sith)\n",
    "\n",
    "</center>\n",
    "\n",
    "<br>"
   ]
  },
  {
   "cell_type": "markdown",
   "metadata": {
    "id": "w7y6DiIjVViK"
   },
   "source": [
    "# **Índice**\n",
    "\n",
    "---\n",
    "---\n",
    "\n",
    "> [Gestión de datos y datos digitales](#scrollTo=eJfiC-K0VViA&uniqifier=1)\n",
    "<br>\n",
    ">>\n",
    ">> [Preparación del Entorno](#scrollTo=UkU8akIVtlbn&line=1&uniqifier=1) \\\\\n",
    ">>   \\\\\n",
    ">> [1.3. Google Analytics](#scrollTo=U3oTMspTVVjE&uniqifier=1) \\\\\n",
    ">>\n",
    ">>> [1.3.1. Google developer console](#scrollTo=Hd88I7fxVVju&uniqifier=1) \\\\\n",
    ">>>\n",
    ">>> [1.3.2. Configuración en Google Analytics 4](#scrollTo=yxlPi4fjjYGb&uniqifier=1) \\\\\n",
    ">>>\n",
    ">>> [1.3.3. Acceso a Google Analytics des de Python](#scrollTo=uNp0KfRlVVkP&uniqifier=1)\n",
    ">>\n",
    ">> [Enlaces de interés](#scrollTo=C-AMazPq4Htt&uniqifier=1)"
   ]
  },
  {
   "cell_type": "markdown",
   "metadata": {
    "id": "UkU8akIVtlbn"
   },
   "source": [
    "# Preparación del entorno\n",
    "\n",
    "Cargamos las librerías."
   ]
  },
  {
   "cell_type": "code",
   "execution_count": null,
   "metadata": {},
   "outputs": [],
   "source": [
    "# Instala las librerías necesarias\n",
    "# !pip install --upgrade google-api-python-client google-auth-httplib2 google-auth-oauthlib pandas\n",
    "# !pip install google-analytics-data pandas google-auth\n"
   ]
  },
  {
   "cell_type": "code",
   "execution_count": 71,
   "metadata": {},
   "outputs": [],
   "source": [
    "import pandas as pd\n",
    "import numpy as np\n",
    "import json\n",
    "\n",
    "from google.oauth2 import service_account\n",
    "from googleapiclient.discovery import build\n",
    "from googleapiclient.errors import HttpError\n"
   ]
  },
  {
   "cell_type": "markdown",
   "metadata": {
    "id": "U3oTMspTVVjE"
   },
   "source": [
    "# 1.3. Google Analytics\n",
    "\n",
    "\n",
    "Una de las primeras tareas para crear un nuevo website es configurar Google Analytics. Después del tiempo y esfuerzo invertido en construir una web, habitualmente se quiere medir y analizar el comportamiento de los usuarios.\n",
    "\n",
    "Las preguntas más frecuentes son:\n",
    "\n",
    "- ¿Como esta funcionando mis contenidos?\n",
    "- ¿Qué categorías de productos son los más populares?\n",
    "- ¿Cuantas conversiones ha realizado mi campaña de Facebook?\n",
    "- ¿Los usuarios ven el último video que he producido?\n",
    "- ¿Que comparten los usuarios en las redes sociales?\n",
    "- ¿Las personas abandonan la pagina durante el proceso de pago?\n",
    "\n",
    "\n",
    "El [46,4 % de todos los sitios web](https://w3techs.com/technologies/details/ta-googleanalytics) utiliza Google Analytics y esto supone el [81.2% del mercado de herramientas de analisis web](https://w3techs.com/technologies/overview/traffic_analysis).\n",
    "\n",
    "El objetivo es poder tomar decisiones basados en datos. Las decisiones pueden ser, por ejemplo, el tipo de contenidos invertir, o qué presupuesto puedes gastar en campañas de anuncios.\n",
    "\n",
    "El objetivo de este módulo es aprender a conectar con la API de Datos de GA4 para extraer información a través de Python y convertirla en DataFrames de Pandas.\n",
    "\n",
    "> **Importante**: Obviamente, para poder practicar con el contenido de este módulo necesitas tu propia cuenta de Google y una propiedad de Google Analytics 4.\n"
   ]
  },
  {
   "cell_type": "markdown",
   "metadata": {
    "id": "Hd88I7fxVVju"
   },
   "source": [
    "## 1.3.1. Google developer console\n",
    "\n",
    "Para acceder puedes acceder al siguiente enlace web: https://console.developers.google.com/. \n",
    "\n",
    "Una vez dentro, debes crear un proyecto nuevo. Esto lo puedes hacer en la pestaña que encontrarás en la parte superior izquierda. Clicas en la pestaña y aprietas la opción de **NUEVO PROYECTO**.\n",
    "\n",
    "Tienes que dar un nombre al proyecto. Por ejemplo \"GA master IL3\" y le das al botón de crear.\n",
    "\n",
    "### Habilita la API de GA4:\n",
    "\n",
    "En el menú de la izquierda, ve a \"Biblioteca\".\n",
    "\n",
    "Busca y habilita la \"Google Analytics Data API\".\n",
    "\n",
    "### Crea una Cuenta de Servicio:\n",
    "\n",
    "- En el menú de la izquierda, ve a \"Credenciales\"\n",
    "  - Clica en \"Crear Credenciales\" (superior) y selecciona \"Cuenta de Servicio\".\n",
    "  - Dale un nombre (ej. ga4-il3-test) y clica en \"Crear y continuar\".\n",
    "  - En \"Función\", asigna el rol de \"Administrador\" para simplificar y clica en \"Continuar\" y luego en \"Listo\".\n",
    "\n",
    "\n",
    "> **Importante**: Revisa que se ha creado la Cuenta de servicio que deberia llevar el siguiente nombre (según lo hayas configurado):   ga-il3-test@ga-master-il3.iam.gserviceaccount.com. Este correo, lo necesitaras mas adelante.\n",
    "\n",
    "### Crea una Clave JSON:\n",
    "\n",
    "En la lista de credenciales, busca la cuenta de servicio que acabas de crear (tendrá un email como ga-il3-test@ga-master-il3.iam.gserviceaccount.com ).\n",
    "\n",
    "- Clica sobre ella.\n",
    "- Ve a la pestaña \"CLAVES\".\n",
    "- Clica en \"AGREGAR CLAVE\" > \"Crear clave nueva\".\n",
    "- Deja el tipo de clave como JSON y clica en \"CREAR\".\n",
    "- Se descargará automáticamente un archivo .json en tu ordenador, en mi caso se llama: \"ga-master-il3-xxxxxxxxxxx.json\" (las  x son un numero de serie, no es importante). Este archivo es tu credencial, guárdalo bien.\n",
    "\n"
   ]
  },
  {
   "cell_type": "markdown",
   "metadata": {
    "id": "yxlPi4fjjYGb"
   },
   "source": [
    "## 1.3.2. Configuración en Google Analytics 4\n",
    "\n",
    "Si no las tienes, debes crear una **cuenta** y un **propiedad** desde https://analytics.google.com/ (sigue los formularios, es simple). En mi caso he creado un acuenta \"master IL3\" y una propiedad. Vemos este útlimo paso.\n",
    "\n",
    "### Crear la Propiedad de GA4\n",
    "\n",
    "- Da un nombre a la propiedad, en mi caso \"Test IL3 2025\". Tambien una zona y moneda. Siguiente.\n",
    "- Selecciona una categoria (Trabajo y educación, p.e.) y una tamaño de empresa (Pequeña). Siguiente.\n",
    "- Seleccina uno o dos objetivos. Crear.\n",
    "- En recogida de datos, debes selccioanr una plataforma. En mi caso Web:\n",
    "  - Debes aportar una url, por ejemplo, abre un blog en [ blogger](https://www.blogger.com/) e introduce la url. En mi caso testil32025.blogspot.com. Finalmente da un nombre al flujo de datos.\n",
    "  - Si no se abre automáticamente, clica en el nuevo flujo y cuadro de \"Consulta las instrucciones de la etiqueta\" > \"Instala manualmente\". Deberia aparecer las instrucciones para añadir el script de monitorización a tu web:\n",
    "\n",
    "Insertar un script de seguimiento en la cabecera o sección <head> de tu página web.\n",
    "\n",
    "```html\n",
    "<!-- Google tag (gtag.js) -->\n",
    "<script async src=\"https://www.googletagmanager.com/gtag/js?id=G-XXXXXXXXXX\"></script>\n",
    "<script>\n",
    "  window.dataLayer = window.dataLayer || [];\n",
    "  function gtag(){dataLayer.push(arguments);}\n",
    "  gtag('js', new Date());\n",
    "\n",
    "  gtag('config', 'G-XXXXXXXXXX');\n",
    "</script>\n",
    "```\n",
    "\n",
    "En el caso de blogger debes ir a \"Configuración\" > En \"Opciones básicas\", verás el apartado: \"Identificador de propiedad de Google Analytics\".  > Clicar > copiar el tag G-XXXXXXXXXX > Guardar\n",
    "\n",
    "> **Importante**: Ahora, el tráfico web ya quedará registrado. Puedes comporbarlo accediendo a tu web/blogger y verificar el tráfico de accesos en los informes en Tiempo real de Google analytics (tarda unos segundos).\n",
    "\n",
    "El siguiente paso consiste en dar acceso a la cuenta de servicio para que pueda leer los datos de nuestra propiedad de GA4.\n",
    "\n",
    "### Obtener el ID de Propiedad de GA4\n",
    "\n",
    "- Entra en tu cuenta de Google Analytics: https://analytics.google.com/\n",
    "- Ve a Administrar (el icono de la rueda dentada ⚙️ en la esquina inferior izquierda).\n",
    "- Asegúrate de tener seleccionada la cuenta y la propiedad de GA4 correctas. Verás dos secciones: \"Cuenta\" y \"Propiedad\".\n",
    "- En la secciñon \"Propiedad\", clica en \"Configuración de la propiedad\".\n",
    "- En la parte superior derecha, verás el ID DE PROPIEDAD. Es un número largo (ej. 345678910). NO es el ID de medición que empieza por \"G-\".\n",
    "- Copia este número. Lo necesitarás en el script de Python.\n",
    "\n",
    "### Asignar Permisos a la Cuenta de Servicio\n",
    "\n",
    "- En la misma columna de \"Propiedad\", clica en \"Gestión de accesos a la propiedad\".\n",
    "- Clica en el botón azul con el signo + en la esquina superior derecha y selecciona \"Añadir usuarios\".\n",
    "- En el campo \"Direcciones de correo electrónico\", pega el email de la cuenta de servicio que creaste en la Google Console (lo encontrarás en el archivo .json, en el campo client_email).\n",
    "- Desmarca la opción \"Notificar a los usuarios nuevos por correo electrónico\".\n",
    "- En \"Función\", asigna el rol de \"Lector\" (Viewer). Es suficiente para leer datos.\n",
    "- Clica en \"Añadir\"."
   ]
  },
  {
   "cell_type": "markdown",
   "metadata": {
    "id": "uNp0KfRlVVkP"
   },
   "source": [
    "## 1.3.3. Acceso a Google Analytics des de Python\n",
    "\n",
    "Para acceder a los datos de Google Analytics, vas a necesitar las credenciales que has generado en los apartado anteriores (arxivo: \"ga-master-il3-xxxxxxxxxxx.json\").\n",
    "\n",
    "Sube este archivo a Colab (o en tu carpeta local de Jupyter Notebook) a través del icono de Files (menú izquierda) > Icono de \"Upload Session Storage\" > busca el archivo \"ga-master-il3-xxxxxxxxxxx.json\" > \"Aceptar”\n",
    "\n",
    "Cargamos las librerías.\n"
   ]
  },
  {
   "cell_type": "code",
   "execution_count": null,
   "metadata": {
    "id": "ZgbkuPbaoyzO"
   },
   "outputs": [],
   "source": [
    "import pandas as pd\n",
    "import numpy as np\n",
    "\n",
    "from google.oauth2 import service_account\n",
    "from googleapiclient.discovery import build\n",
    "from googleapiclient.errors import HttpError"
   ]
  },
  {
   "cell_type": "markdown",
   "metadata": {
    "id": "sNVbWaONo1Is"
   },
   "source": [
    "\n",
    "Leemos las credenciales.\n"
   ]
  },
  {
   "cell_type": "code",
   "execution_count": null,
   "metadata": {},
   "outputs": [],
   "source": [
    "# Reemplaza 'tu_archivo.json' con el nombre de tu archivo de credenciales\n",
    "KEY_FILE_LOCATION = 'ga-master-il3-XXXXXXXXXXX.json'    # modifica la ruta y nombre fichero en caso necesario\n",
    "\n",
    "SCOPES = ['https://www.googleapis.com/auth/analytics.readonly']\n"
   ]
  },
  {
   "cell_type": "markdown",
   "metadata": {
    "id": "eEtfNvx6r4eB"
   },
   "source": [
    "\n",
    "Se define la funciona de obtención de credenciales de Google Analytics.\n"
   ]
  },
  {
   "cell_type": "code",
   "execution_count": 64,
   "metadata": {
    "id": "pywTDCWPr30s"
   },
   "outputs": [],
   "source": [
    "def get_analytics_service():\n",
    "    \"\"\"Inicializa un servicio para la API de datos de GA4.\"\"\"\n",
    "    credentials = service_account.Credentials.from_service_account_file(\n",
    "        KEY_FILE_LOCATION, scopes=SCOPES)\n",
    "    \n",
    "    # Construimos el servicio para la API de Datos de GA4 (v1beta)\n",
    "    service = build('analyticsdata', 'v1beta', credentials=credentials)\n",
    "    \n",
    "    return service"
   ]
  },
  {
   "cell_type": "markdown",
   "metadata": {},
   "source": [
    "Creamos las funciones para pedir el informe y para convertir la respuesta en un DataFrame."
   ]
  },
  {
   "cell_type": "code",
   "execution_count": 65,
   "metadata": {},
   "outputs": [],
   "source": [
    "def run_ga4_report(service, property_id, dimensions, metrics, start_date, end_date):\n",
    "    \"\"\"\n",
    "    Ejecuta un informe en la API de datos de GA4 y devuelve la respuesta.\n",
    "    \"\"\"\n",
    "    try:\n",
    "        # Crea el cuerpo de la solicitud\n",
    "        request_body = {\n",
    "            \"dimensions\": [{\"name\": dim} for dim in dimensions],\n",
    "            \"metrics\": [{\"name\": met} for met in metrics],\n",
    "            \"dateRanges\": [{\"startDate\": start_date, \"endDate\": end_date}],\n",
    "        }\n",
    "\n",
    "        # Ejecuta la solicitud\n",
    "        response = service.properties().runReport(\n",
    "            property=f\"properties/{property_id}\",\n",
    "            body=request_body\n",
    "        ).execute()\n",
    "        \n",
    "        return response\n",
    "    except HttpError as error:\n",
    "        print(f\"Ha ocurrido un error: {error}\")\n",
    "        return None\n",
    "\n",
    "\n",
    "def parse_ga4_response_to_df(response):\n",
    "    \"\"\"\n",
    "    Convierte la respuesta JSON de la API de GA4 en un DataFrame de pandas.\n",
    "    \"\"\"\n",
    "    if response is None or not response.get('rows'):\n",
    "        print(\"La respuesta está vacía o no contiene filas de datos.\")\n",
    "        return pd.DataFrame()\n",
    "\n",
    "    # Extraer las cabeceras\n",
    "    dim_headers = [h['name'] for h in response['dimensionHeaders']]\n",
    "    metric_headers = [h['name'] for h in response['metricHeaders']]\n",
    "    headers = dim_headers + metric_headers\n",
    "\n",
    "    # Extraer las filas de datos\n",
    "    rows = []\n",
    "    for row in response.get('rows', []):\n",
    "        row_values = [dim['value'] for dim in row['dimensionValues']]\n",
    "        row_values.extend([met['value'] for met in row['metricValues']])\n",
    "        rows.append(row_values)\n",
    "    \n",
    "    return pd.DataFrame(rows, columns=headers)"
   ]
  },
  {
   "cell_type": "markdown",
   "metadata": {
    "id": "8hO3BCIksNiW"
   },
   "source": [
    "\n",
    "¡Llegó el momento de usarlo!\n",
    "\n",
    "Copia tu ID de Propiedad en la siguiente variable.\n",
    "\n",
    "> **Importante**: Los datos pueden tardar hasta 24-48 horas en aparecer en la API después de configurar tu sitio (e mi caso unsos 15 minutos). Asegúrate de que tu web está generando tráfico."
   ]
  },
  {
   "cell_type": "code",
   "execution_count": 72,
   "metadata": {
    "colab": {
     "base_uri": "https://localhost:8080/"
    },
    "id": "kVNnGaPdsM1U",
    "outputId": "8e01ff3c-20cb-4742-8201-91be058af519"
   },
   "outputs": [
    {
     "name": "stdout",
     "output_type": "stream",
     "text": [
      "--- Páginas más vistas los últimos 30 días ---\n",
      "  pagePath activeUsers screenPageViews\n",
      "0        /           4               6\n"
     ]
    }
   ],
   "source": [
    "# --- CONFIGURACIÓN ---\n",
    "# Reemplaza con tu ID de Propiedad de GA4\n",
    "PROPERTY_ID = '493423124'  # Ejemplo: '345678910'\n",
    "\n",
    "\n",
    "# Inicializamos el servicio\n",
    "analytics_service = get_analytics_service()\n",
    "\n",
    "# Definimos las dimensiones y métricas para nuestro primer informe\n",
    "# Queremos ver las páginas más vistas\n",
    "dimensions = ['pagePath']\n",
    "metrics = ['activeUsers', 'screenPageViews']\n",
    "\n",
    "# Realizamos la petición para los últimos 30 días\n",
    "response = run_ga4_report(analytics_service, PROPERTY_ID, dimensions, metrics, '30daysAgo', 'today')\n",
    "\n",
    "# Convertimos la respuesta en un DataFrame\n",
    "df_pageviews = parse_ga4_response_to_df(response)\n",
    "\n",
    "print(\"--- Páginas más vistas los últimos 30 días ---\")\n",
    "print(df_pageviews.head())"
   ]
  },
  {
   "cell_type": "markdown",
   "metadata": {
    "id": "o2ryAXNas73M"
   },
   "source": [
    "\n",
    "Si todo ha ido bien, creamos las funciones de obtención del informe y parseado de los resultados.\n"
   ]
  },
  {
   "cell_type": "markdown",
   "metadata": {},
   "source": [
    "Puedes probar con otras dimensiones y métricas. Los nombres han cambiado respecto a Universal Analytics (ahora no llevan el prefijo ga:).\n",
    "\n",
    "- browser (Navegador)\n",
    "- sessionSourceMedium (Fuente y medio de la sesión)\n",
    "- country (País)\n",
    "- sessions (Sesiones)"
   ]
  },
  {
   "cell_type": "code",
   "execution_count": 73,
   "metadata": {
    "colab": {
     "base_uri": "https://localhost:8080/"
    },
    "id": "tyG8hrgP3lwk",
    "outputId": "23d4b734-d809-4d6b-a1be-f4f5e28550db"
   },
   "outputs": [
    {
     "name": "stdout",
     "output_type": "stream",
     "text": [
      "\n",
      "--- Sesiones por Fuente/Medio y Navegador (2025-05-01 a 2025-06-14) ---\n",
      "  sessionSourceMedium browser sessions\n",
      "0           (not set)  Chrome        3\n",
      "1   (direct) / (none)  Chrome        2\n"
     ]
    }
   ],
   "source": [
    "# --- SEGUNDO EJEMPLO: Sesiones por fuente/medio y navegador ---\n",
    "\n",
    "dimensions_2 = ['sessionSourceMedium', 'browser']\n",
    "metrics_2 = ['sessions']\n",
    "start_date_2 = '2025-05-01'\n",
    "end_date_2 = '2025-06-14'\n",
    "\n",
    "response_2 = run_ga4_report(analytics_service, PROPERTY_ID, dimensions_2, metrics_2, start_date_2, end_date_2)\n",
    "df_source_browser = parse_ga4_response_to_df(response_2)\n",
    "\n",
    "print(f\"\\n--- Sesiones por Fuente/Medio y Navegador ({start_date_2} a {end_date_2}) ---\")\n",
    "print(df_source_browser.head())"
   ]
  },
  {
   "cell_type": "markdown",
   "metadata": {},
   "source": [
    "Para explorar todas las dimensiones y métricas disponibles en la API de datos de GA4, consulta la documentación oficial:\n",
    "\n",
    "- [GA4 Dimensions & Metrics Explorer](https://developers.google.com/analytics/devguides/reporting/data/v1/api-schema)\n",
    "\n",
    "Enlaces de Interés (Actualizados para GA4):\n",
    "\n",
    "- [Documentación de la API de Datos de GA4](https://developers.google.com/analytics/devguides/reporting/data/v1)\n",
    "- [Guía de Migración de UA a GA4 para desarrolladores](https://developers.google.com/analytics/devguides/migration/api/reporting-ua-to-ga4)\n",
    "- [Ejemplos de código Python para la API de GA4](https://www.google.com/search?q=https://github.com/googleanalytics/python-analytics-data)"
   ]
  }
 ],
 "metadata": {
  "colab": {
   "collapsed_sections": [
    "U75KhoMvVVod",
    "HF-DJJD5VVx7"
   ],
   "name": "modulo3_tema1_dd_03_ganalytics.ipynb",
   "provenance": [],
   "toc_visible": true
  },
  "kernelspec": {
   "display_name": "mbdds_rpy20",
   "language": "python",
   "name": "python3"
  },
  "language_info": {
   "codemirror_mode": {
    "name": "ipython",
    "version": 3
   },
   "file_extension": ".py",
   "mimetype": "text/x-python",
   "name": "python",
   "nbconvert_exporter": "python",
   "pygments_lexer": "ipython3",
   "version": "3.9.12"
  }
 },
 "nbformat": 4,
 "nbformat_minor": 1
}
