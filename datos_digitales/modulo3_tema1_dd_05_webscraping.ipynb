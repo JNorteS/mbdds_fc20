{
 "cells": [
  {
   "cell_type": "markdown",
   "metadata": {
    "id": "xIfYEg6Ud051"
   },
   "source": [
    "\n",
    "# **Gestión de datos y datos digitales**\n",
    "### **Autor: Ferran Carrascosa Mallafrè**\n",
    "\n",
    "---\n",
    "---\n",
    "\n",
    "<!-- script html for image -->\n",
    "\n",
    "<center>\n",
    "\n",
    "<img src=\"https://upload.wikimedia.org/wikipedia/commons/thumb/c/c9/Star_Wars%2C_%C3%A9pisode_III_-_La_Revanche_des_Sith_logo.jpg/220px-Star_Wars%2C_%C3%A9pisode_III_-_La_Revanche_des_Sith_logo.jpg\"  width=\"500\" height=\"150\"/>\n",
    "\n",
    "\n",
    "<br>\n",
    "\n",
    "Fuente de la imagen: [https://es.wikipedia.org](https://es.wikipedia.org/wiki/Star_Wars:_Episodio_III_-_La_venganza_de_los_Sith)\n",
    "\n",
    "</center>\n",
    "\n",
    "<br>"
   ]
  },
  {
   "cell_type": "markdown",
   "metadata": {
    "id": "a82wFXwsd9ZU"
   },
   "source": [
    "# **Índice**\n",
    "\n",
    "---\n",
    "---\n",
    "\n",
    "> [Gestión de datos y datos digitales](#scrollTo=xIfYEg6Ud051)\n",
    "<br>\n",
    ">>\n",
    ">> [1.5.1. Introducción a las expresiones regulares](#scrollTo=zAhG3gpZgfxz&uniqifier=1) \\\\\n",
    ">>\n",
    ">> [1.5.2. Web Scraping](#scrollTo=Oi5_wNaf4rS7&uniqifier=1) \\\\\n",
    ">>\n",
    ">> [1.5.3. El inspector de código](#scrollTo=_1XsQgGD4rTO&uniqifier=1) \\\\\n",
    ">>\n",
    ">> [1.5.4. Beatiful soup](#scrollTo=Fexw2BNe4rTS&uniqifier=1)\n",
    ">>\n",
    ">> [1.5.5. Scraping contenido dinámico con Selenium](#scrollTo=EpT48am54rTa&uniqifier=1)\n",
    "\n"
   ]
  },
  {
   "cell_type": "markdown",
   "metadata": {
    "id": "zAhG3gpZgfxz"
   },
   "source": [
    "## 1.5. Web scraping. Uso de bots.\n",
    "\n",
    "<br>\n",
    "\n",
    "> Importante: El apartado de 1.5.5. Scraping contenido dinámico con Selenium, debe ejecutarse en un entorno local de Jupyetr notebook.\n"
   ]
  },
  {
   "cell_type": "markdown",
   "metadata": {
    "id": "M4nfn4JY4rSN"
   },
   "source": [
    "1.5.1. Introducción a las expresiones regulares\n",
    "\n",
    "<br>\n",
    "\n",
    "Las expresiones regulares permiten definir patrones de búsqueda por lo que suponen una alternativa, y a la vez, un soporte al web scraping.\n",
    "\n",
    "Pueden ser tan simples como una cadena de texto como la del siguiente ejemplo. No obstante, antes de definir la expresión regular, primero se debe cargar la librería `re`.\n",
    "\n",
    "<br>"
   ]
  },
  {
   "cell_type": "code",
   "execution_count": 1,
   "metadata": {
    "id": "t2AozXTF4rSg"
   },
   "outputs": [],
   "source": [
    "import re\n",
    "\n",
    "ej1 = \"Est3o xyz1234 esxyz5 un tXyzexto dexy6 ejexyzm7plo\""
   ]
  },
  {
   "cell_type": "markdown",
   "metadata": {
    "id": "6XLXgp_s4rSh"
   },
   "source": [
    "<br>\n",
    "\n",
    "Ahora, se declara el patrón de la expresión regular.\n",
    "\n",
    "<br>"
   ]
  },
  {
   "cell_type": "code",
   "execution_count": 2,
   "metadata": {
    "colab": {
     "base_uri": "https://localhost:8080/"
    },
    "id": "ezryxy824rSj",
    "outputId": "025b9231-66fe-4a5d-a33d-fafcf493cd41"
   },
   "outputs": [
    {
     "name": "stdout",
     "output_type": "stream",
     "text": [
      "re.compile('xyz')\n"
     ]
    }
   ],
   "source": [
    "patron1 = re.compile('xyz')\n",
    "print(patron1)"
   ]
  },
  {
   "cell_type": "markdown",
   "metadata": {
    "id": "JkJeKy174rSm"
   },
   "source": [
    "<br>\n",
    "\n",
    "Para capturar todas las repeticiones en un lista.\n",
    "\n",
    "<br>"
   ]
  },
  {
   "cell_type": "code",
   "execution_count": 3,
   "metadata": {
    "colab": {
     "base_uri": "https://localhost:8080/"
    },
    "id": "fR8lICs64rSo",
    "outputId": "09d06dc6-0fe1-4794-dbec-27e9e478d71c"
   },
   "outputs": [
    {
     "name": "stdout",
     "output_type": "stream",
     "text": [
      "['xyz', 'xyz', 'xyz']\n"
     ]
    }
   ],
   "source": [
    "print(re.findall(patron1,ej1))"
   ]
  },
  {
   "cell_type": "markdown",
   "metadata": {
    "id": "YUAiXnW24rSo"
   },
   "source": [
    "<br>\n",
    "\n",
    "En vez de usar re.comple(), se puede utilizar directamente r\"expresion_regular\".\n",
    "\n",
    "<br>"
   ]
  },
  {
   "cell_type": "code",
   "execution_count": 4,
   "metadata": {
    "colab": {
     "base_uri": "https://localhost:8080/"
    },
    "id": "rh92GbVQ4rSp",
    "outputId": "8a2061cd-b6ae-4fe4-b02f-389fd624dfe5"
   },
   "outputs": [
    {
     "name": "stdout",
     "output_type": "stream",
     "text": [
      "['xyz', 'xyz', 'xyz']\n"
     ]
    }
   ],
   "source": [
    "print(re.findall(r\"xyz\",ej1))"
   ]
  },
  {
   "cell_type": "markdown",
   "metadata": {
    "id": "OLA3bWNI4rSq"
   },
   "source": [
    "<br>\n",
    "\n",
    "Otra forma más flexible.\n",
    "\n",
    "<br>"
   ]
  },
  {
   "cell_type": "code",
   "execution_count": 5,
   "metadata": {
    "colab": {
     "base_uri": "https://localhost:8080/"
    },
    "id": "3mVA8wFl4rSr",
    "outputId": "dc9d4f50-552b-4a98-f14e-749ce352d31b"
   },
   "outputs": [
    {
     "name": "stdout",
     "output_type": "stream",
     "text": [
      "06-09: xyz\n",
      "16-19: xyz\n",
      "42-45: xyz\n"
     ]
    }
   ],
   "source": [
    "for m in re.finditer(patron1, ej1):\n",
    "    print('%02d-%02d: %s' % (m.start(), m.end(), m.group(0)))"
   ]
  },
  {
   "cell_type": "markdown",
   "metadata": {
    "id": "w8e8Zhue4rSs"
   },
   "source": [
    "<br>\n",
    "\n",
    "Existen caracteres especiales:\n",
    "\n",
    "<br>\n",
    "\n",
    "- .: Cualquier carácter.\n",
    "- \\d:  Cualquier dígito.\n",
    "- \\w: Cualquier carácter alfanumérico.\n",
    "- \\s: Cualquier espacio blanco como espacio nueva línea, retorno de carro, tabulador...\n",
    "\n",
    "<br>"
   ]
  },
  {
   "cell_type": "code",
   "execution_count": 6,
   "metadata": {
    "colab": {
     "base_uri": "https://localhost:8080/"
    },
    "id": "1wNl6MBr4rSs",
    "outputId": "46c4bf01-8534-4fb5-fefc-bfedf8036bca"
   },
   "outputs": [
    {
     "name": "stdout",
     "output_type": "stream",
     "text": [
      "[' xyz123']\n"
     ]
    }
   ],
   "source": [
    "patron2 = re.compile('\\s\\w\\w\\w\\d..')\n",
    "print(re.findall(patron2,ej1))"
   ]
  },
  {
   "cell_type": "markdown",
   "metadata": {
    "id": "SrljAp-e4rSu"
   },
   "source": [
    "<br>\n",
    "\n",
    "En este contexto, las mayúsculas indican negación:\n",
    "\n",
    "<br>\n",
    "\n",
    "- \\D: Todo excepto un dígito.\n",
    "- \\W: Cualquier cosa excepto un carácter alfanumérico.\n",
    "- \\S: Cualquier carácter no espacio.\n",
    "\n",
    "<br>"
   ]
  },
  {
   "cell_type": "code",
   "execution_count": 7,
   "metadata": {
    "colab": {
     "base_uri": "https://localhost:8080/"
    },
    "id": "anJrUEqZ4rSv",
    "outputId": "654e6560-08c0-4cc9-8f40-3fbefb4f4077"
   },
   "outputs": [
    {
     "name": "stdout",
     "output_type": "stream",
     "text": [
      "[' x', ' e', ' u', ' t', ' d', ' e']\n"
     ]
    }
   ],
   "source": [
    "patron3 = re.compile('\\W\\D')\n",
    "print(re.findall(patron3,ej1))"
   ]
  },
  {
   "cell_type": "markdown",
   "metadata": {
    "id": "CCeq6jUT4rSw"
   },
   "source": [
    "<br>\n",
    "\n",
    "Repeticiones de caracteres mediante corchetes, seguido del número de repeticiones.\n",
    "\n",
    "<br>"
   ]
  },
  {
   "cell_type": "code",
   "execution_count": 8,
   "metadata": {
    "colab": {
     "base_uri": "https://localhost:8080/"
    },
    "id": "LuBmEgHI4rSw",
    "outputId": "da51a593-9697-473e-c9ee-801a134ebab6"
   },
   "outputs": [
    {
     "name": "stdout",
     "output_type": "stream",
     "text": [
      "['12', '34']\n"
     ]
    }
   ],
   "source": [
    "patron4 = re.compile('\\d{2}')\n",
    "print(re.findall(patron4,ej1))"
   ]
  },
  {
   "cell_type": "markdown",
   "metadata": {
    "id": "QR9cCh124rSx"
   },
   "source": [
    "<br>\n",
    "\n",
    "Para repeticiones indefinidas de un carácter, se coloca inmediatamente después del carácter, uno de los siguientes símbolos:\n",
    "\n",
    "<br>\n",
    "\n",
    "- *: 0 o más repeticiones\n",
    "- +: 1 o más veces\n",
    "\n",
    "<br>"
   ]
  },
  {
   "cell_type": "code",
   "execution_count": 9,
   "metadata": {
    "colab": {
     "base_uri": "https://localhost:8080/"
    },
    "id": "Od5UDJJM4rSy",
    "outputId": "aebdff3e-9573-4e60-b18a-43795af8e1df"
   },
   "outputs": [
    {
     "name": "stdout",
     "output_type": "stream",
     "text": [
      "['', '', '', '3', '', '', '', '', '', '1234', '', '', '', '', '', '', '5', '', '', '', '', '', '', '', '', '', '', '', '', '', '', '', '', '', '6', '', '', '', '', '', '', '', '', '7', '', '', '', '']\n"
     ]
    }
   ],
   "source": [
    "patron5 = re.compile('\\d*')\n",
    "print(re.findall(patron5,ej1))"
   ]
  },
  {
   "cell_type": "markdown",
   "metadata": {
    "id": "0Kl5VwMg4rSz"
   },
   "source": [
    "<br>\n",
    "Ahora con el símbolo +.\n",
    "\n",
    "<br>"
   ]
  },
  {
   "cell_type": "code",
   "execution_count": 10,
   "metadata": {
    "colab": {
     "base_uri": "https://localhost:8080/"
    },
    "id": "I7peSpDl4rS0",
    "outputId": "6b78b6e4-a257-4703-d117-85b2de62663e"
   },
   "outputs": [
    {
     "name": "stdout",
     "output_type": "stream",
     "text": [
      "['3', '1234', '5', '6', '7']\n"
     ]
    }
   ],
   "source": [
    "patron6 = re.compile('\\d+')\n",
    "print(re.findall(patron6,ej1))"
   ]
  },
  {
   "cell_type": "markdown",
   "metadata": {
    "id": "FHXKjAuY4rS1"
   },
   "source": [
    "<br>\n",
    "\n",
    "Para decir que un carácter es opcional, se coloca inmediatamente después el símbolo ?.\n",
    "\n",
    "<br>"
   ]
  },
  {
   "cell_type": "code",
   "execution_count": 11,
   "metadata": {
    "colab": {
     "base_uri": "https://localhost:8080/"
    },
    "id": "GCty5yRB4rS1",
    "outputId": "356f6e73-38cb-4a09-ecc0-962bb313ecf6"
   },
   "outputs": [
    {
     "name": "stdout",
     "output_type": "stream",
     "text": [
      "['xyz', 'xyz', 'xy', 'xyz']\n"
     ]
    }
   ],
   "source": [
    "patron7 = re.compile('xyz?')\n",
    "print(re.findall(patron7,ej1))"
   ]
  },
  {
   "cell_type": "markdown",
   "metadata": {
    "id": "rYgUVjqh4rS2"
   },
   "source": [
    "<br>\n",
    "\n",
    "Si hay más de un carácter posible, se ponen éstos dentro de corchetes.\n",
    "\n",
    "<br>"
   ]
  },
  {
   "cell_type": "code",
   "execution_count": 12,
   "metadata": {
    "colab": {
     "base_uri": "https://localhost:8080/"
    },
    "id": "1Jv3mPij4rS2",
    "outputId": "ef247a3c-e913-486f-8a54-c9f8ebc38813"
   },
   "outputs": [
    {
     "name": "stdout",
     "output_type": "stream",
     "text": [
      "['xyz', 'xyz', 'Xyz', 'xyz']\n"
     ]
    }
   ],
   "source": [
    "patron8 = re.compile('[xX]yz')\n",
    "print(re.findall(patron8,ej1))"
   ]
  },
  {
   "cell_type": "markdown",
   "metadata": {
    "id": "yNCBBzYp4rS3"
   },
   "source": [
    "<br>\n",
    "\n",
    "Para decir que no tenemos ninguno de un conjunto posible de caracteres, se sitúan éstos, dentro de corchetes precedidos por el símbolo ^. Por ejemplo, [^xyz] indica que no sea x, y o z.\n",
    "\n",
    "<br>"
   ]
  },
  {
   "cell_type": "code",
   "execution_count": 13,
   "metadata": {
    "colab": {
     "base_uri": "https://localhost:8080/"
    },
    "id": "-C-S06_D4rS3",
    "outputId": "a585eb9c-18c5-48ca-888c-a3dbde4f50b7"
   },
   "outputs": [
    {
     "name": "stdout",
     "output_type": "stream",
     "text": [
      "['t3', '12', '34', 'm7']\n"
     ]
    }
   ],
   "source": [
    "patron9 = re.compile('[^xyz]\\d')\n",
    "print(re.findall(patron9,ej1))"
   ]
  },
  {
   "cell_type": "markdown",
   "metadata": {
    "id": "VSWhA-vW4rS5"
   },
   "source": [
    "<br>\n",
    "\n",
    "Si indican rangos con -, por ejemplo [A-Z] o [0-9].\n",
    "\n",
    "<br>"
   ]
  },
  {
   "cell_type": "code",
   "execution_count": 14,
   "metadata": {
    "colab": {
     "base_uri": "https://localhost:8080/"
    },
    "id": "8te1IpMt4rS6",
    "outputId": "143e6d6d-ca34-4a2a-f7e2-571cc2638f1c"
   },
   "outputs": [
    {
     "name": "stdout",
     "output_type": "stream",
     "text": [
      "['t3', 'z1', 'z5', 'y6', 'm7']\n"
     ]
    }
   ],
   "source": [
    "patron9 = re.compile('[a-z]\\d')\n",
    "print(re.findall(patron9,ej1))"
   ]
  },
  {
   "cell_type": "markdown",
   "metadata": {
    "id": "nxwyHS184rS6"
   },
   "source": [
    "<br>\n",
    "\n",
    "Para capturar un grupo de caracteres dentro de la expresión regular y desestimar el resto de caracteres, se utiliza paréntesis.\n",
    "\n",
    "<br>"
   ]
  },
  {
   "cell_type": "code",
   "execution_count": 15,
   "metadata": {
    "colab": {
     "base_uri": "https://localhost:8080/"
    },
    "id": "WBaa2Iz04rS7",
    "outputId": "2d4f9c2f-2cd9-40f5-e02d-6b2f46ac00e1"
   },
   "outputs": [
    {
     "name": "stdout",
     "output_type": "stream",
     "text": [
      "06-13: 1234\n",
      "16-20: 5\n"
     ]
    }
   ],
   "source": [
    "for m in re.finditer(r\"xyz(\\d+)\", ej1):\n",
    "    print('%02d-%02d: %s' % (m.start(), m.end(), m.group(1)))"
   ]
  },
  {
   "cell_type": "markdown",
   "metadata": {
    "id": "Oi5_wNaf4rS7"
   },
   "source": [
    "<br>\n",
    "\n",
    "Las expresiones regulares son una potente herramienta para capturar contenido web. No obstante, no son la forma más robusta, ya que el contenido web, con mucha frecuencia, sufre de errores e inconsistencias en su construcción.\n",
    "\n",
    "En los siguientes apartados se introducirá otros métodos que facilitan estas tareas.  \n",
    "\n",
    "<br>\n",
    "\n",
    "## 1.5.2. Web Scraping\n",
    "\n",
    "<br>\n",
    "\n",
    "Cuando no hay un API, se pueden utilizar las técnicas de web scraping para capturar su contenido.\n",
    "\n",
    "El escenario más simple es cuando el contenido de la página está basado en HTML más estilo de texto CSS estático.\n",
    "\n",
    "Por el contrario, cuando las páginas tienen contenido basado en HTML dinámico generado, por ejemplo, en JavaScript.\n",
    "\n",
    "<br>\n",
    "\n",
    "### HTML estático\n",
    "\n",
    "<br>\n",
    "\n",
    "Para comprender mejor la forma de obtener el contenido de una página html, se introducen a continuación, algunos conceptos básicos sobre HTML.\n",
    "\n",
    "El html se basa en la estructura de tag:\n",
    "\n",
    "<br>\n",
    "\n",
    "<p style=\"text-align: center\">&lt;nombre_tag *atributos*&gt; contenido &lt;/nombre_tag&gt;<p>\n",
    "\n",
    "<br>\n",
    "\n",
    "La estructura general de una página HTML es la siguiente:\n",
    "\n",
    "<br>\n",
    "\n",
    "- Se inicia la página con <!DOCTYPE html>. Así se especifica que el código es HTML5.\n",
    "- El primer tag es &lt;html&gt; y el fichero finaliza con el correspondiente &lt;/html&gt;.\n",
    "- La segunda sección es &lt;head&gt; y puede contener:\n",
    "   - La sección &lt;title&gt; con el título de la página.\n",
    "   - Referencias de estilo CSS con el tag &lt;link&gt; para dar formato al contenido de la página.\n",
    "   - Enlaces a ficheros javascript con el tag: &lt;script&gt; utilizado para que el contenido sea dinámico.\n",
    "- A continuación la sección &lt;body&gt; que puede contener:\n",
    "   - Encabezados con &lt;h#&gt; (donde # es un número natural)\n",
    "   - Texto con &lt;p&gt;.\n",
    "   - Hipervínculos con el atributo **href** del tag &lt;a&gt;. p.e.: &lt;a hrf = \"www.ine.es\" &gt; INE &lt;/a&gt;.  \n",
    "   - Imágenes con el atributo **src** del tag &lt;img&gt;. p.e.: &lt;img src = \"my_pic.jpg\" /&gt;.\n",
    "\n",
    "Puedes ampliar la información en la página del consorcio <a href=\"http://www.w3.org/community/webed/wiki/HTML\">World Wide Web</a>.\n",
    "\n",
    "Veamos un ejemplo:\n",
    "\n",
    "<br>\n",
    "\n",
    "```\n",
    "<!DOCTYPE html>\n",
    "<html>\n",
    "<head>\n",
    "<title>Hello World!</title>\n",
    "</head>\n",
    "<body>\n",
    "<h1>Titulo 1</h1>\n",
    "<p>Texto 1</p>\n",
    "<h2>Titulo 2</h2>\n",
    "<p>Texto con enlace a <a href = \"https://en.wikipedia.org/wiki/Star_Wars\" > Star Wars Wikipedia </a>.</p>\n",
    "<img src=\"https://en.wikipedia.org/wiki/File:Star_wars2.svg\">\n",
    "</body>\n",
    "</html>\n",
    "```\n",
    "<br>"
   ]
  },
  {
   "cell_type": "code",
   "execution_count": 16,
   "metadata": {
    "colab": {
     "base_uri": "https://localhost:8080/",
     "height": 322
    },
    "id": "Gp6gI0Pf4rS9",
    "outputId": "04e88453-75a0-4ff4-bd44-fc8b3136b5fe"
   },
   "outputs": [
    {
     "data": {
      "text/html": [
       "\n",
       "<!DOCTYPE html>\n",
       "<html>\n",
       "<head>\n",
       "<title>Hello World!</title>\n",
       "</head>\n",
       "<body>\n",
       "<h1>Titulo 1</h1>\n",
       "<p>Texto 1</p>\n",
       "<h2>Titulo 2</h2>\n",
       "<p>Texto con enlace a <a href = \"https://es.wikipedia.org/wiki/Star_Wars\" > Star Wars Wikipedia </a>.</p>\n",
       "<img src=\"https://upload.wikimedia.org/wikipedia/commons/thumb/6/6c/Star_Wars_Logo.svg/250px-Star_Wars_Logo.svg.png\">\n",
       "</body>\n",
       "</html>\n"
      ],
      "text/plain": [
       "<IPython.core.display.HTML object>"
      ]
     },
     "metadata": {},
     "output_type": "display_data"
    }
   ],
   "source": [
    "from IPython.display import display, HTML\n",
    "display(HTML('''\n",
    "<!DOCTYPE html>\n",
    "<html>\n",
    "<head>\n",
    "<title>Hello World!</title>\n",
    "</head>\n",
    "<body>\n",
    "<h1>Titulo 1</h1>\n",
    "<p>Texto 1</p>\n",
    "<h2>Titulo 2</h2>\n",
    "<p>Texto con enlace a <a href = \"https://es.wikipedia.org/wiki/Star_Wars\" > Star Wars Wikipedia </a>.</p>\n",
    "<img src=\"https://upload.wikimedia.org/wikipedia/commons/thumb/6/6c/Star_Wars_Logo.svg/250px-Star_Wars_Logo.svg.png\">\n",
    "</body>\n",
    "</html>\n",
    "'''))"
   ]
  },
  {
   "cell_type": "markdown",
   "metadata": {
    "id": "s1Y-9qnh4rS-"
   },
   "source": [
    "<br>\n",
    "\n",
    "### Listas HTML\n",
    "\n",
    "<br>\n",
    "\n",
    "La forma clásica de dar formato al contenido en html estático es mediante listas y tablas.\n",
    "\n",
    "Una lista puede ser:\n",
    "\n",
    "<br>\n",
    "\n",
    "- Numerada u ordenada: Se definen con &lt;ol&gt;.\n",
    "- No ordenada: Se definen con &lt;ul&gt;.\n",
    "\n",
    "<br>\n",
    "\n",
    "Sus elementos se insertan mediante el tag &lt;li&gt;.\n",
    "\n",
    "Veamos un ejemplo:\n",
    "\n",
    "<br>\n",
    "\n",
    "```\n",
    "<ol>\n",
    "  <li>Café</li>\n",
    "  <li>Té</li>\n",
    "  <li>Leche</li>\n",
    "</ol>\n",
    "```\n",
    "\n",
    "<br>\n",
    "\n",
    "Resultado:\n",
    "\n",
    "<br>\n",
    "\n",
    "<ol>\n",
    "  <li>Café</li>\n",
    "  <li>Té</li>\n",
    "  <li>Leche</li>\n",
    "</ol>\n",
    "\n",
    "<br>\n",
    "\n",
    "### Tablas HTML\n",
    "\n",
    "Para definir tablas, se utiliza el tag &lt;table&gt;. Cada  fila se define con &lt;tr&gt; y las columnas a través de sus elementos con el tag &lt;td&gt;.\n",
    "\n",
    "Pueden contener un encabezado &lt;thead&gt; y un cuerpo &lt;tbody&gt;.\n",
    "\n",
    "Cada elemento del encabezado se define con &lt;th&gt;.\n",
    "\n",
    "Si la celda tiene varias columnas se utiliza el atributo *colspan=número de celdas*.\n",
    "\n",
    "Veamos un ejemplo:\n",
    "\n",
    "<br>\n",
    "\n",
    "```\n",
    "<table>\n",
    "<thead>\n",
    "<tr><th colspan = 2>Una tabla</th><tr>\n",
    "</thead>\n",
    "<tbody>\n",
    "<tr>\n",
    "<td>Elmento 1</td><td>Elmento 2</td>\n",
    "</tr>\n",
    "<tr>\n",
    "<td colspan=2>Elmento 3</td>\n",
    "</tr>\n",
    "</tbody>\n",
    "</table>\n",
    "```\n",
    "\n",
    "<br>\n",
    "\n",
    "<table>\n",
    "<thead>\n",
    "<tr><th colspan = 2>Una tabla</th><tr>\n",
    "</thead>\n",
    "<tbody>\n",
    "<tr>\n",
    "<td>Elmento 1</td><td>Elmento 2</td>\n",
    "</tr>\n",
    "<tr>\n",
    "<td colspan=2>Elmento 3</td>\n",
    "</tr>\n",
    "</tbody>\n",
    "</table>\n",
    "\n",
    "<br>\n",
    "\n",
    "### Tablas HTML con estilos\n",
    "\n",
    "<br>\n",
    "\n",
    "Actualmente se combina el html con estilos mediante &lt;div&gt; y &lt;span&gt;:\n",
    "\n",
    "<br>\n",
    "\n",
    "- div: Permite definir bloques (o celdas) con un estilo.\n",
    "- span: Permite diferenciar un fragmento del texto con un estilo.\n",
    "\n",
    "<br>\n",
    "\n",
    "Veamos un ejemplo:\n",
    "\n",
    "<br>\n",
    "\n",
    "```\n",
    "<div style = \"background-color:yellow;padding:10px;display:inline-block\">  Text 1\n",
    "</div>\n",
    "<div style = \"background-color:red;padding:10px;display:inline-block\">  Text 2\n",
    "</div>\n",
    "<div style = \"background-color:green;padding:10px;display:inline-block\">  Text 3\n",
    "</div>\n",
    "```\n",
    "\n",
    "<br>\n",
    "\n",
    "El resultado:\n",
    "\n",
    "<br>\n",
    "\n",
    "<div style = \"background-color:yellow;padding:10px;display:inline-block\">  Text 1\n",
    "</div>\n",
    "<div style = \"background-color:red;padding:10px;display:inline-block\">  Text 2\n",
    "</div>\n",
    "<div style = \"background-color:green;padding:10px;display:inline-block\">  Text 3\n",
    "</div>\n",
    "\n",
    "<br>\n",
    "\n",
    "### Estilos CSS\n",
    "\n",
    "<br>\n",
    "\n",
    "Los ficheros CSS permiten definir un conjunto de reglas de estilo que se podrán aplicar al contenido html.\n",
    "\n",
    "<br>\n",
    "\n",
    "#### Selector CSS\n",
    "\n",
    "<br>\n",
    "\n",
    "El formato general es:\n",
    "\n",
    "<br>\n",
    "\n",
    "```\n",
    "selector_css { propiedad: valor; }\n",
    "```\n",
    "\n",
    "<br>\n",
    "\n",
    "El *selector_css* puede ser cualquier tag html. De esta forma se puede modificar el estilo de un conjunto de elementos.\n",
    "\n",
    "Para modificar el contenido de los tags div.\n",
    "\n",
    "<br>\n",
    "\n",
    "```\n",
    "div { color:green; }\n",
    "```\n",
    "\n",
    "<br>\n",
    "\n",
    "#### Clases\n",
    "\n",
    "<br>\n",
    "\n",
    "Para agrupar un conjunto de tags bajo un mismo estilo, se utiliza el atributo **class** de los tags &lt;div&gt; o &lt;p&gt;.\n",
    "\n",
    "<br>\n",
    "\n",
    "```\n",
    "< div class = \"mi_clase\" >  o también < p class = \"mi_clase\">\n",
    "```\n",
    "\n",
    "<br>\n",
    "\n",
    "Para modificar el estilo en el fichero CSS se utiliza el nombre de la clase precedido por punto.\n",
    "\n",
    "<br>\n",
    "\n",
    "```\n",
    ".mi_clase { font-family:Arial; }\n",
    "```\n",
    "\n",
    "<br>\n",
    "\n",
    "#### Identificadores\n",
    "\n",
    "<br>\n",
    "\n",
    "Para marcar un elemento y aplicarle un cierto estilo, se pueden utilizar los identificadores. Para esto se utiliza el atributo ID.\n",
    "\n",
    "<br>\n",
    "\n",
    "```\n",
    "< div id = \"mi_ID\" >\n",
    "```\n",
    "\n",
    "<br>\n",
    "\n",
    "Para modificar el estilo en ficheros de tipo CSS, se utiliza el nombre precedido de la almohadilla.\n",
    "\n",
    "<br>\n",
    "\n",
    "```\n",
    "#mi_ID { font-size:16px; }\n",
    "```\n",
    "\n",
    "<br>\n",
    "\n",
    "### Selección CSS\n",
    "\n",
    "<br>\n",
    "\n",
    "Los tags, así como sus atributos, constituyen una estructura arbórea, donde el tag html es el nodo raíz.\n",
    "\n",
    "Para facilitar la selección de nodos de este árbol, CSS define un conjunto de reglas de selección.\n",
    "\n",
    "Dos ejemplos de reglas habituales de selección son.\n",
    "\n",
    "<br>\n",
    "\n",
    "+ \"elem1 elem2\": Se refiere a cualquier elem2 dentro de cualquier otro elem1, sin tener en cuenta el grado de anidación.\n",
    "+ \"elem1>elem2\": Se refiere a los elem2 hijos directos de elem1.\n",
    "\n",
    "<br>\n",
    "\n",
    "Para seleccionar los elementos identificados por un atributo concreto, se utiliza:\n",
    "\n",
    "<br>\n",
    "\n",
    "```\n",
    "elemento[attribute = value]\n",
    "```\n",
    "\n",
    "<br>\n",
    "\n",
    "Por ejemplo para seleccionar botones.\n",
    "\n",
    "<br>\n",
    "\n",
    "```\n",
    "input[type = \"button\"]\n",
    "```\n",
    "\n",
    "<br>\n",
    "\n",
    "Otros patrones de búsqueda:\n",
    "\n",
    "<br>\n",
    "\n",
    "- atributo~=valor: Contienen la palabra completa en una lista de palabras separadas por espacio.\n",
    "- atributo|=valor: Contienen en una lista separada por guiones.\n",
    "- atributo^=valor: Contienen, al inicio, el valor.\n",
    "- atributo$=valor: Contienen, al final, el valor.\n",
    "- atributo\\*=valor: Contienen el valor como parte de alguna palabra.\n",
    "\n",
    "<br>\n",
    "\n",
    "Se pueden encadenar varios selectores:\n",
    "\n",
    "<br>\n",
    "\n",
    "```\n",
    "elemento[atributo1 = valor1][atributo2 = valor2]\n",
    "```\n",
    "\n",
    "<br>\n",
    "\n",
    "Para ampliar las reglas de selección CSS puedes visitar la [referencia de selectores CSS](https://www.w3schools.com/cssref/css_selectors.asp).\n",
    "\n",
    "A continuación, se presenta un ejemplo de selección de texto de la página Star Wars de la Wikipedia.\n",
    "\n",
    "En primer lugar se obtiene el texto html y se le da una estructura de árbol.\n",
    "\n",
    "<br>"
   ]
  },
  {
   "cell_type": "code",
   "execution_count": 17,
   "metadata": {
    "colab": {
     "base_uri": "https://localhost:8080/"
    },
    "id": "jrOLfha16Cx5",
    "outputId": "caeb931f-18c5-4eeb-92fe-0eeddb83e3b1"
   },
   "outputs": [],
   "source": [
    "if 'google.colab' in str(get_ipython()):\n",
    "    !pip install lxml cssselect"
   ]
  },
  {
   "cell_type": "code",
   "execution_count": 18,
   "metadata": {
    "id": "FRNj8lKW4rTB"
   },
   "outputs": [],
   "source": [
    "from urllib.request import urlopen\n",
    "\n",
    "source = urlopen('https://es.wikipedia.org/wiki/Star_Wars')\n",
    "\n",
    "from lxml import html\n",
    "from lxml import cssselect\n",
    "tree = html.document_fromstring(source.read())"
   ]
  },
  {
   "cell_type": "markdown",
   "metadata": {
    "id": "BuGJQGxQ4rTC"
   },
   "source": [
    "<br>\n",
    "\n",
    "A continuación, se capturan todas las citas de autores mediante el tag blockquote, agrupados bajo el estilo flexquote. El selector CSS correspondiente es: *blockquote.flexquote*.\n",
    "\n",
    "<br>"
   ]
  },
  {
   "cell_type": "code",
   "execution_count": 19,
   "metadata": {
    "colab": {
     "base_uri": "https://localhost:8080/"
    },
    "id": "V6mLwmtH4rTD",
    "outputId": "4830e54a-ba61-4641-b6d7-e9ceb19e98ec"
   },
   "outputs": [
    {
     "data": {
      "text/plain": [
       "5"
      ]
     },
     "execution_count": 19,
     "metadata": {},
     "output_type": "execute_result"
    }
   ],
   "source": [
    "quotes = tree.cssselect(\"blockquote.flexquote\")\n",
    "\n",
    "len(quotes)"
   ]
  },
  {
   "cell_type": "markdown",
   "metadata": {
    "id": "mowdDihY4rTD"
   },
   "source": [
    "<br>\n",
    "\n",
    "Observamos que se han capturado 5 citas. Veamos la primera.\n",
    "\n",
    "<br>"
   ]
  },
  {
   "cell_type": "code",
   "execution_count": 20,
   "metadata": {
    "colab": {
     "base_uri": "https://localhost:8080/"
    },
    "id": "lGsdSLBE4rTE",
    "outputId": "1118e95f-d3cc-44b8-901b-741d8c8c8191"
   },
   "outputs": [
    {
     "name": "stdout",
     "output_type": "stream",
     "text": [
      "\n",
      " \n",
      "  No mucho tiempo después de que comenzara a escribir Star Wars, concluí que la historia daba para más de lo que una simple película podía dar cabida. Mientras completaba la saga de los Skywalker y los caballeros Jedi, empecé a visualizarlo como un relato que tomaría lugar en, por lo menos, nueve películas —tres trilogías— y decidí continuar justo entre los hechos precedentes y los sucesivos, partiendo entonces con la historia intermedia.\n",
      " George Lucas\n",
      "\n"
     ]
    }
   ],
   "source": [
    "print(quotes[0].text_content())"
   ]
  },
  {
   "cell_type": "markdown",
   "metadata": {
    "id": "K8O4-s7N4rTE"
   },
   "source": [
    "<br>\n",
    "\n",
    "Para capturar todos los enlaces (tag a) donde el enlace (href^=) empieza por *http*."
   ]
  },
  {
   "cell_type": "code",
   "execution_count": 21,
   "metadata": {
    "colab": {
     "base_uri": "https://localhost:8080/"
    },
    "id": "YTJNpSH04rTF",
    "outputId": "766ea1ed-60f0-492a-b1a9-28829b0e4617"
   },
   "outputs": [
    {
     "data": {
      "text/plain": [
       "738"
      ]
     },
     "execution_count": 21,
     "metadata": {},
     "output_type": "execute_result"
    }
   ],
   "source": [
    "links = tree.cssselect('a[href^=\"http\"]')\n",
    "len(links)"
   ]
  },
  {
   "cell_type": "markdown",
   "metadata": {
    "id": "A_6XSTdk4rTH"
   },
   "source": [
    "<br>\n",
    "\n",
    "Muchos enlaces! Veamos los 5 primeros.\n",
    "\n",
    "<br>"
   ]
  },
  {
   "cell_type": "code",
   "execution_count": 22,
   "metadata": {},
   "outputs": [],
   "source": [
    "x = links[0]\n",
    "\n"
   ]
  },
  {
   "cell_type": "code",
   "execution_count": 23,
   "metadata": {
    "colab": {
     "base_uri": "https://localhost:8080/"
    },
    "id": "iTJFcs0B4rTH",
    "outputId": "c973518c-2ccf-4298-a6c3-415e84c8dca6"
   },
   "outputs": [
    {
     "data": {
      "text/plain": [
       "['https://donate.wikimedia.org/?wmf_source=donate&wmf_medium=sidebar&wmf_campaign=es.wikipedia.org&uselang=es',\n",
       " 'https://ady.wikipedia.org/wiki/%D0%96%D1%8A%D1%83%D0%B0%D0%B3%D1%8A%D0%BE_%D0%97%D0%B0%D0%BE%D1%85%D1%8D%D1%80',\n",
       " 'https://als.wikipedia.org/wiki/Star_Wars',\n",
       " 'https://am.wikipedia.org/wiki/%E1%88%B5%E1%89%B3%E1%88%AD_%E1%8B%8B%E1%88%AD%E1%88%B5']"
      ]
     },
     "execution_count": 23,
     "metadata": {},
     "output_type": "execute_result"
    }
   ],
   "source": [
    "linksList = [x.values()[0] for x in links]\n",
    "linksList[1:5]"
   ]
  },
  {
   "cell_type": "markdown",
   "metadata": {
    "id": "r3fE8uiP4rTI"
   },
   "source": [
    "<br>\n",
    "\n",
    "Más difícil aún, veamos como capturar una tabla de datos. En este caso, capturamos la tabla que cumple con la regla CSS siguiente: table.wikitable:nth-child(1) > tbody:nth-child(1)\n",
    "\n",
    "El primer paso consiste en capturar la tabla de [Star_Wars_Celebration](https://es.wikipedia.org/wiki/Star_Wars#Star_Wars_Celebration).\n",
    "\n",
    "<br>"
   ]
  },
  {
   "cell_type": "code",
   "execution_count": 24,
   "metadata": {
    "colab": {
     "base_uri": "https://localhost:8080/"
    },
    "id": "OfzdQa8t4rTJ",
    "outputId": "0dc9c315-53f2-4a66-b8b0-6328c2d6a30e"
   },
   "outputs": [
    {
     "data": {
      "text/plain": [
       "1"
      ]
     },
     "execution_count": 24,
     "metadata": {},
     "output_type": "execute_result"
    }
   ],
   "source": [
    "tables = tree.cssselect(\"table.wikitable:nth-child(1) > tbody:nth-child(1)\")\n",
    "\n",
    "len(tables)"
   ]
  },
  {
   "cell_type": "markdown",
   "metadata": {
    "id": "DebrbcRD4rTK"
   },
   "source": [
    "<br>\n",
    "\n",
    "Se observa que ha encontrato un elemento. El segundo paso, consiste en capturar cada una de las filas (tag tr).\n",
    "\n",
    "<br>"
   ]
  },
  {
   "cell_type": "code",
   "execution_count": 25,
   "metadata": {
    "colab": {
     "base_uri": "https://localhost:8080/"
    },
    "id": "kctVC-Ii4rTL",
    "outputId": "373f9e09-63e3-467d-c9e3-9e390c953cce"
   },
   "outputs": [
    {
     "data": {
      "text/plain": [
       "15"
      ]
     },
     "execution_count": 25,
     "metadata": {},
     "output_type": "execute_result"
    }
   ],
   "source": [
    "table_rows = tables[0].findall(\"tr\")\n",
    "\n",
    "len(table_rows)"
   ]
  },
  {
   "cell_type": "markdown",
   "metadata": {
    "id": "8__Q5iEb4rTN"
   },
   "source": [
    "<br>\n",
    "\n",
    "Ahora 15 elmentos (filas). Por último, hay que parsear cada fila para separar el contenido de las columnas (tag td).\n",
    "\n",
    "<br>"
   ]
  },
  {
   "cell_type": "code",
   "execution_count": 26,
   "metadata": {
    "id": "fa_yOXl7GA4G"
   },
   "outputs": [],
   "source": [
    "import pandas as pd"
   ]
  },
  {
   "cell_type": "code",
   "execution_count": 27,
   "metadata": {
    "colab": {
     "base_uri": "https://localhost:8080/",
     "height": 1000
    },
    "id": "9gZYvlKe4rTO",
    "outputId": "2e7419bd-0dc9-4c52-9d7f-00f9691387d0"
   },
   "outputs": [
    {
     "data": {
      "text/html": [
       "<div>\n",
       "<style scoped>\n",
       "    .dataframe tbody tr th:only-of-type {\n",
       "        vertical-align: middle;\n",
       "    }\n",
       "\n",
       "    .dataframe tbody tr th {\n",
       "        vertical-align: top;\n",
       "    }\n",
       "\n",
       "    .dataframe thead th {\n",
       "        text-align: right;\n",
       "    }\n",
       "</style>\n",
       "<table border=\"1\" class=\"dataframe\">\n",
       "  <thead>\n",
       "    <tr style=\"text-align: right;\">\n",
       "      <th></th>\n",
       "      <th>0</th>\n",
       "      <th>1</th>\n",
       "      <th>2</th>\n",
       "      <th>3</th>\n",
       "    </tr>\n",
       "  </thead>\n",
       "  <tbody>\n",
       "    <tr>\n",
       "      <th>0</th>\n",
       "      <td>Nombre</td>\n",
       "      <td>Fecha</td>\n",
       "      <td>Lugar</td>\n",
       "      <td>Ciudad</td>\n",
       "    </tr>\n",
       "    <tr>\n",
       "      <th>1</th>\n",
       "      <td>Celebration I</td>\n",
       "      <td>30 de abril-2 de mayo de 1999</td>\n",
       "      <td>Wings Over the Rockies Air and Space Museum</td>\n",
       "      <td>Denver, Colorado</td>\n",
       "    </tr>\n",
       "    <tr>\n",
       "      <th>2</th>\n",
       "      <td>Celebration II</td>\n",
       "      <td>3-5 de mayo de 2002</td>\n",
       "      <td>Centro de Convenciones de Indiana</td>\n",
       "      <td>Indianápolis, Indiana</td>\n",
       "    </tr>\n",
       "    <tr>\n",
       "      <th>3</th>\n",
       "      <td>Celebration III</td>\n",
       "      <td>21-24 de abril de 2005</td>\n",
       "      <td>Indiana Convention Center</td>\n",
       "      <td>Indianápolis, Indiana</td>\n",
       "    </tr>\n",
       "    <tr>\n",
       "      <th>4</th>\n",
       "      <td>Celebration IV</td>\n",
       "      <td>24-28 de mayo de 2007</td>\n",
       "      <td>Centro de Convenciones de Los Ángeles</td>\n",
       "      <td>Los Ángeles, California</td>\n",
       "    </tr>\n",
       "    <tr>\n",
       "      <th>5</th>\n",
       "      <td>Celebration Europe I</td>\n",
       "      <td>13-15 de julio de 2007</td>\n",
       "      <td>Centro de Exposiciones ExCeL</td>\n",
       "      <td>Londres, Reino Unido</td>\n",
       "    </tr>\n",
       "    <tr>\n",
       "      <th>6</th>\n",
       "      <td>Celebration Japan</td>\n",
       "      <td>19-21 de julio de 2008</td>\n",
       "      <td>Makuhari Messe</td>\n",
       "      <td>Chiba, Japón</td>\n",
       "    </tr>\n",
       "    <tr>\n",
       "      <th>7</th>\n",
       "      <td>Celebration V</td>\n",
       "      <td>12-15 de agosto de 2010</td>\n",
       "      <td>Orange County Convention Center</td>\n",
       "      <td>Orlando, Florida</td>\n",
       "    </tr>\n",
       "    <tr>\n",
       "      <th>8</th>\n",
       "      <td>Celebration VI</td>\n",
       "      <td>16-19 de agosto de 2012</td>\n",
       "      <td>Orange County Convention Center</td>\n",
       "      <td>Orlando, Florida</td>\n",
       "    </tr>\n",
       "    <tr>\n",
       "      <th>9</th>\n",
       "      <td>Celebration Europe II</td>\n",
       "      <td>26-28 de julio de 2013</td>\n",
       "      <td>Messe Essen</td>\n",
       "      <td>Essen, Alemania</td>\n",
       "    </tr>\n",
       "    <tr>\n",
       "      <th>10</th>\n",
       "      <td>Celebration Anaheim</td>\n",
       "      <td>16-19 de abril de 2015</td>\n",
       "      <td>Centro de Convenciones de Anaheim</td>\n",
       "      <td>Anaheim, California</td>\n",
       "    </tr>\n",
       "    <tr>\n",
       "      <th>11</th>\n",
       "      <td>Celebration Europe III</td>\n",
       "      <td>15-17 de julio de 2016</td>\n",
       "      <td>Centro de Exposiciones ExCeL</td>\n",
       "      <td>Londres, Reino Unido</td>\n",
       "    </tr>\n",
       "    <tr>\n",
       "      <th>12</th>\n",
       "      <td>Celebration VII</td>\n",
       "      <td>13-16 de abril de 2017</td>\n",
       "      <td>Orange County Convention Center</td>\n",
       "      <td>Orlando, Florida</td>\n",
       "    </tr>\n",
       "    <tr>\n",
       "      <th>13</th>\n",
       "      <td>Celebration VIII</td>\n",
       "      <td>11-15 de abril de 2019</td>\n",
       "      <td>McCormick Place</td>\n",
       "      <td>Chicago, Illinois</td>\n",
       "    </tr>\n",
       "    <tr>\n",
       "      <th>14</th>\n",
       "      <td>Celebration Anaheim II</td>\n",
       "      <td>18-21 de agosto de 2022</td>\n",
       "      <td>Centro de Convenciones de Anaheim</td>\n",
       "      <td>Anaheim, California</td>\n",
       "    </tr>\n",
       "  </tbody>\n",
       "</table>\n",
       "</div>"
      ],
      "text/plain": [
       "                         0                              1  \\\n",
       "0                   Nombre                          Fecha   \n",
       "1            Celebration I  30 de abril-2 de mayo de 1999   \n",
       "2           Celebration II            3-5 de mayo de 2002   \n",
       "3          Celebration III         21-24 de abril de 2005   \n",
       "4           Celebration IV          24-28 de mayo de 2007   \n",
       "5     Celebration Europe I         13-15 de julio de 2007   \n",
       "6        Celebration Japan         19-21 de julio de 2008   \n",
       "7            Celebration V        12-15 de agosto de 2010   \n",
       "8           Celebration VI        16-19 de agosto de 2012   \n",
       "9    Celebration Europe II         26-28 de julio de 2013   \n",
       "10     Celebration Anaheim         16-19 de abril de 2015   \n",
       "11  Celebration Europe III         15-17 de julio de 2016   \n",
       "12         Celebration VII         13-16 de abril de 2017   \n",
       "13        Celebration VIII         11-15 de abril de 2019   \n",
       "14  Celebration Anaheim II        18-21 de agosto de 2022   \n",
       "\n",
       "                                              2                        3  \n",
       "0                                         Lugar                   Ciudad  \n",
       "1   Wings Over the Rockies Air and Space Museum         Denver, Colorado  \n",
       "2             Centro de Convenciones de Indiana    Indianápolis, Indiana  \n",
       "3                     Indiana Convention Center    Indianápolis, Indiana  \n",
       "4         Centro de Convenciones de Los Ángeles  Los Ángeles, California  \n",
       "5                  Centro de Exposiciones ExCeL     Londres, Reino Unido  \n",
       "6                                Makuhari Messe             Chiba, Japón  \n",
       "7               Orange County Convention Center         Orlando, Florida  \n",
       "8               Orange County Convention Center         Orlando, Florida  \n",
       "9                                   Messe Essen          Essen, Alemania  \n",
       "10            Centro de Convenciones de Anaheim      Anaheim, California  \n",
       "11                 Centro de Exposiciones ExCeL     Londres, Reino Unido  \n",
       "12              Orange County Convention Center         Orlando, Florida  \n",
       "13                              McCormick Place        Chicago, Illinois  \n",
       "14            Centro de Convenciones de Anaheim      Anaheim, California  "
      ]
     },
     "execution_count": 27,
     "metadata": {},
     "output_type": "execute_result"
    }
   ],
   "source": [
    "tablFinal = []\n",
    "\n",
    "for i,tr in enumerate(table_rows):\n",
    "    td = tr.findall(\"th\" if i==0 else \"td\")\n",
    "    row = [i.text_content().replace(\"\\n\", \"\" ) for i in td]\n",
    "    tablFinal.append(row)\n",
    "\n",
    "pd.DataFrame(tablFinal)"
   ]
  },
  {
   "cell_type": "markdown",
   "metadata": {
    "id": "_1XsQgGD4rTO"
   },
   "source": [
    "<br>\n",
    "\n",
    "Bien! Misión cumplida Padawan!\n",
    "\n",
    "Revisa el código anterior, y verás que todo el truco consiste en saber el selector CSS, éste, a veces se expresa en forma de reglas fáciles de deducir, como *a[href^=\"http\"]*. Otras veces, se expresa en formas tan complejas como esta *table.wikitable:nth-child(1) > tbody:nth-child(1)*.\n",
    "\n",
    "Para saber cómo se obtienen estas expresiones, lee el siguiente apartado sobre el inspector de código.\n",
    "\n",
    "<br>\n",
    "\n",
    "## 1.5.3. El inspector de código\n",
    "\n",
    "<br>\n",
    "\n",
    "Como ya se ha anticipado, una pieza fundamental para recuperar el contenido deseado de una página web y darle estructura, son las distintas reglas para seleccionar elementos del árbol de nodos.\n",
    "\n",
    "Para facilitar este análisis, se pueden utilizar tanto Chrome como Firefox, las herramientas de apoyo al desarrollador que verás a continuación.\n",
    "\n",
    "<br>\n",
    "\n",
    "### Código fuente HTML\n",
    "\n",
    "<br>\n",
    "\n",
    "Para acceder al código fuente de una página que tenemos abierta en el navegador, es tan simple como apretar el botón derecho en cualquier ubicación de la página (que no sea una imagen o un enlace) y apretar la opción de \"Ver código fuente de la página\" (en Firefox) o  \"Visualizar origen de la página\" (en Chrome).\n",
    "\n",
    "De esta forma se puede revisar detalles del código HTML estático. No obstante, esta forma no es la más ágil para analizar aspectos concretos de la web, ya que el código, a menudo es muy voluminoso y difícil de comprender.\n",
    "\n",
    "<br>\n",
    "\n",
    "### Inspeccionar elementos\n",
    "\n",
    "<br>\n",
    "\n",
    "Cuando estamos interesados en conocer la forma de identificar de forma unívoca un contenido de la web, la forma más eficaz, es el inspector de elementos.\n",
    "\n",
    "Para basarnos en un ejemplo común, ve al enlace de la [primera cita](https://es.wikipedia.org/wiki/Star_Wars#Trilog%C3%ADa_original) de George Lucas en la wikipedia.\n",
    "\n",
    "<br>\n",
    "\n",
    "![](www/cita1.png)\n",
    "\n",
    "\\<imagen1\\>Imagen: Cita de George Lucas (Fuente: [Wikipedia](https://es.wikipedia.org/wiki/Star_Wars#Trilog%C3%ADa_original) ). (www/cita1.png){width=850px}\n",
    "\n",
    "<br>\n",
    "\n",
    "A continuación, clica botón derecho sobre el texto de la cita y aprieta la opción \"Inspeccionar elemento\" en Firefox, o bien,  \"Inspecciona\" en Chrome. Verás que automáticamente se abre una consola dentro de la página en la parte inferior (o derecha) de la página.\n",
    "\n",
    "El inspector, abre la puerta a un sin fin de opciones de análisis, útiles para el web scraping. Por ejemplo, observa como al mover el puntero sobre las líneas del inspector de código (parte inferior, o derecha), automáticamente se ilumina el contorno del elemento web al que hace referencia.\n",
    "\n",
    "El siguiente paso es clicar (botón izquierdo) sobre la línea con texto `<blockquote class=\"flexquote\">`. En Firefox, deberías ver lo siguiente (En Chrome debería ser parecido).\n",
    "\n",
    "<br>\n",
    "\n",
    "![](www/cita2.png)\n",
    "\n",
    "\\<imagen1\\>Imagen: Selector CSS de la cita de George Lucas (Fuente: [Wikipedia](https://es.wikipedia.org/wiki/Star_Wars#Trilog%C3%ADa_original) ). (www/cita2.png){width=950px}\n",
    "\n",
    "<br>\n",
    "\n",
    "Finalmente, sin mover el cursor de la línea, aprieta el botón derecho y mueve el cursor sobre el menú contextual \"Copiar\" > y aprieta la opción Selector CSS.\n",
    "\n",
    "<br>\n",
    "\n",
    "![](www/cita3.png)\n",
    "\n",
    "\\<imagen1\\>Imagen: Selector CSS de la cita de George Lucas (Fuente: [Wikipedia](https://es.wikipedia.org/wiki/Star_Wars#Trilog%C3%ADa_original) ). (www/cita3.png){width=350px}\n",
    "\n",
    "<br>\n",
    "\n",
    "Si todo ha ido bien, el texto obtenido al copiar, debería ser: \"blockquote.flexquote:nth-child(56)\". Compruébalo pegando el texto en cualquier editor de texto.\n",
    "\n",
    "Observa también, que si se elimina la última parte \":nth-child(56)\", nos quedamos con \"blockquote.flexquote\", que es el selector CSS deseado de \"Todas las citas\".\n",
    "\n",
    "Practica con otros elementos, por ejemplo, con la tabla de la sección de [Crítica](https://es.wikipedia.org/wiki/Star_Wars#Cr%C3%ADtica) que se ha descargado en el apartado anterior. ¿Obtienes el mismo selector?\n",
    "<br>\n",
    "\n",
    "### Selección con XPATH\n",
    "\n",
    "El lenguaje XPATH  es una alternativa basada en XML que permite parsear el contenido de una página HTML.\n",
    "\n",
    "Veamos algunos ejemplos de su sintaxis.\n",
    "\n",
    "<br>\n",
    "\n",
    "- // : Indica en cualquier lugar de la página.\n",
    "- /  : Indica que es descendiente directo\n",
    "- @ : Para referirse a cierto atributo.\n",
    "- . : Nodo actual.\n",
    "- .. : Nodo padre.\n",
    "- \\* : Indica cualquier elemento nodo.\n",
    "- @* : Cualquier atributo.\n",
    "\n",
    "<br>\n",
    "\n",
    "Por ejemplo,\n",
    "\n",
    "<br>\n",
    "\n",
    "- bookstore/book: Todos los book que son hijos directos de bookstore.\n",
    "- bookstore//book: Todos los book que descienden de bookstore, no importa en qué lugar.\n",
    "- //title[@*]: Selecciona todos los elementos title que tienen al menos un atributo de cualquier tipo.\n",
    "- /bookstore/book[1]: El primer book hijo de bookstore\n",
    "- /bookstore/book[last()]: El último book hijo de bookstore\n",
    "- /bookstore/book[price>35.00]: Los libros con precio superior a 35.\n",
    "\n",
    "<br>\n",
    "\n",
    "Ver más ejemplos en [W3 Schools](https://www.w3schools.com/xml/xpath_syntax.asp).\n",
    "\n",
    "<br>\n",
    "\n",
    "#### Inspector de código XPATH\n",
    "\n",
    "<br>\n",
    "\n",
    "De la misma forma que el selector CSS, tanto Chrome como Firefox permiten obtener los selectores XPATH.\n",
    "\n",
    "Veamos el mismo ejemplo de la [cita de George Lucas](https://es.wikipedia.org/wiki/Star_Wars#Trilog%C3%ADa_original). Abre de nuevo la página e Inspecciona la cita con el botón derecho > Inspecciona elemento.  Sitúate sobre la línea adecuada y clica botón derecho > Copiar > Xpath.\n",
    "\n",
    "Deberías obtener el texto: /html/body/div[2]/div/div[3]/main/div[3]/div[3]/div[1]/blockquote[1]/div[1]/div\n",
    "\n",
    "¿Correcto?\n",
    "\n",
    "En este caso, código para obtener \"todas las citas\" en XPATH podría quedar como sigue.\n",
    "\n",
    "<br>"
   ]
  },
  {
   "cell_type": "code",
   "execution_count": 28,
   "metadata": {
    "id": "UNZo5ob34rTQ"
   },
   "outputs": [
    {
     "data": {
      "text/plain": [
       "5"
      ]
     },
     "execution_count": 28,
     "metadata": {},
     "output_type": "execute_result"
    }
   ],
   "source": [
    "citasX = tree.xpath('//blockquote')\n",
    "len(citasX)\n",
    "\n"
   ]
  },
  {
   "cell_type": "markdown",
   "metadata": {
    "id": "ItZ_CcgA4rTR"
   },
   "source": [
    "<br>\n",
    "\n",
    "Vemos que efectivamente se han obtenido 5 citas como en el selector CSS. Veamos la primera.\n",
    "\n",
    "<br>"
   ]
  },
  {
   "cell_type": "code",
   "execution_count": 29,
   "metadata": {
    "id": "Y9-FPsKk4rTR"
   },
   "outputs": [
    {
     "name": "stdout",
     "output_type": "stream",
     "text": [
      "\n",
      " \n",
      "  No mucho tiempo después de que comenzara a escribir Star Wars, concluí que la historia daba para más de lo que una simple película podía dar cabida. Mientras completaba la saga de los Skywalker y los caballeros Jedi, empecé a visualizarlo como un relato que tomaría lugar en, por lo menos, nueve películas —tres trilogías— y decidí continuar justo entre los hechos precedentes y los sucesivos, partiendo entonces con la historia intermedia.\n",
      " George Lucas\n",
      "\n"
     ]
    }
   ],
   "source": [
    "print(citasX[0].text_content())"
   ]
  },
  {
   "cell_type": "markdown",
   "metadata": {
    "id": "Fexw2BNe4rTS"
   },
   "source": [
    "<br>\n",
    "\n",
    "Conseguido! Probemos ahora con el selector Xpath de la tabla de la sección de [Star_Wars_Celebration](https://es.wikipedia.org/wiki/Star_Wars#Star_Wars_Celebration).\n",
    "\n",
    "¿Coincide con el siguiente?\n",
    "\n",
    "<br>\n",
    "\n",
    "- */html/body/div[2]/div/div[3]/main/div[3]/div[3]/div[1]/center/table/tbody*\n",
    "\n",
    "<br>\n",
    "\n",
    "## 1.5.4. Beatiful soup\n",
    "\n",
    "<br>\n",
    "\n",
    "Esta librería de Python busca apoyar el sistema de navegación definido por los árboles de selectores CSS y XPATH.  \n",
    "\n",
    "Preparar la sopa maravillosa es tan simple como lo siguiente.\n",
    "\n",
    "<br>"
   ]
  },
  {
   "cell_type": "code",
   "execution_count": 30,
   "metadata": {},
   "outputs": [],
   "source": [
    "# pip install bs4"
   ]
  },
  {
   "cell_type": "code",
   "execution_count": 31,
   "metadata": {
    "id": "ogIENzem4rTT"
   },
   "outputs": [],
   "source": [
    "from bs4 import BeautifulSoup\n",
    "from urllib.request import urlopen\n",
    "import lxml\n",
    "\n",
    "source = urlopen('https://es.wikipedia.org/wiki/Star_Wars')\n",
    "soup = BeautifulSoup(source, 'lxml')\n"
   ]
  },
  {
   "cell_type": "markdown",
   "metadata": {
    "id": "pR2yGqn44rTU"
   },
   "source": [
    "<br>\n",
    "\n",
    "Ver el título de la página.\n",
    "\n",
    "<br>"
   ]
  },
  {
   "cell_type": "code",
   "execution_count": 32,
   "metadata": {
    "id": "8GANSFzB4rTV"
   },
   "outputs": [
    {
     "data": {
      "text/plain": [
       "'Star Wars - Wikipedia, la enciclopedia libre'"
      ]
     },
     "execution_count": 32,
     "metadata": {},
     "output_type": "execute_result"
    }
   ],
   "source": [
    "soup.title.string"
   ]
  },
  {
   "cell_type": "markdown",
   "metadata": {
    "id": "X5u7H9co4rTV"
   },
   "source": [
    "<br>\n",
    "\n",
    "Obtener los enlaces (tag a).\n",
    "\n",
    "<br>\n",
    "\n",
    "Texto de la página\n",
    "\n",
    "<br>"
   ]
  },
  {
   "cell_type": "code",
   "execution_count": 33,
   "metadata": {
    "id": "oIZUPZJX4rTW"
   },
   "outputs": [
    {
     "name": "stdout",
     "output_type": "stream",
     "text": [
      "\n",
      "\n",
      "\n",
      "Star Wars - Wikipedia, la enciclopedia libre\n",
      "\n",
      "\n",
      "\n"
     ]
    }
   ],
   "source": [
    "print(soup.get_text()[0:50])"
   ]
  },
  {
   "cell_type": "markdown",
   "metadata": {
    "id": "Ruvj4N544rTW"
   },
   "source": [
    "<br>\n",
    "\n",
    "Acceder a \"todas las tablas\".\n",
    "\n",
    "<br>"
   ]
  },
  {
   "cell_type": "code",
   "execution_count": 34,
   "metadata": {
    "id": "rrzQO7FS4rTW"
   },
   "outputs": [
    {
     "data": {
      "text/plain": [
       "9"
      ]
     },
     "execution_count": 34,
     "metadata": {},
     "output_type": "execute_result"
    }
   ],
   "source": [
    "tables = soup.select(\"table.wikitable > tbody\")\n",
    "len(tables)"
   ]
  },
  {
   "cell_type": "markdown",
   "metadata": {
    "id": "Rp0XppAI4rTX"
   },
   "source": [
    "<br>\n",
    "\n",
    "Se han obtenido 9 tablas. ¡Ojo!, ahora hay que procesarlas igual que antes.\n",
    "\n",
    "<br>\n",
    "\n",
    "### Parseado de tablas con Pandas\n",
    "\n",
    "<br>\n",
    "\n",
    "La librería Pandas, por su lado, ofrece una solución muy rápida y efectiva para obtener las tablas HTML.\n",
    "\n",
    "Si estas tablas están construidas con código HTML estático, obtenerlas es tan simple como realizar lo siguiente.\n",
    "\n",
    "<br>"
   ]
  },
  {
   "cell_type": "code",
   "execution_count": 35,
   "metadata": {
    "id": "92LSgsGG4rTZ"
   },
   "outputs": [],
   "source": [
    "import pandas as pd\n",
    "dfs = pd.read_html(\"https://es.wikipedia.org/wiki/Star_Wars\")"
   ]
  },
  {
   "cell_type": "markdown",
   "metadata": {
    "id": "OwSbGrVn4rTZ"
   },
   "source": [
    "<br>\n",
    "\n",
    "Nuestra tabla de interés es la 10 (indice 9).\n",
    "\n",
    "<br>"
   ]
  },
  {
   "cell_type": "code",
   "execution_count": 36,
   "metadata": {
    "colab": {
     "base_uri": "https://localhost:8080/",
     "height": 1000
    },
    "id": "fpysHtDN4rTZ",
    "outputId": "ad9adcf0-43a0-4a89-f7f3-a3fa9d301185"
   },
   "outputs": [
    {
     "data": {
      "text/html": [
       "<div>\n",
       "<style scoped>\n",
       "    .dataframe tbody tr th:only-of-type {\n",
       "        vertical-align: middle;\n",
       "    }\n",
       "\n",
       "    .dataframe tbody tr th {\n",
       "        vertical-align: top;\n",
       "    }\n",
       "\n",
       "    .dataframe thead th {\n",
       "        text-align: right;\n",
       "    }\n",
       "</style>\n",
       "<table border=\"1\" class=\"dataframe\">\n",
       "  <thead>\n",
       "    <tr style=\"text-align: right;\">\n",
       "      <th></th>\n",
       "      <th>Nombre</th>\n",
       "      <th>Fecha</th>\n",
       "      <th>Lugar</th>\n",
       "      <th>Ciudad</th>\n",
       "    </tr>\n",
       "  </thead>\n",
       "  <tbody>\n",
       "    <tr>\n",
       "      <th>0</th>\n",
       "      <td>Celebration I</td>\n",
       "      <td>30 de abril-2 de mayo de 1999</td>\n",
       "      <td>Wings Over the Rockies Air and Space Museum</td>\n",
       "      <td>Denver, Colorado</td>\n",
       "    </tr>\n",
       "    <tr>\n",
       "      <th>1</th>\n",
       "      <td>Celebration II</td>\n",
       "      <td>3-5 de mayo de 2002</td>\n",
       "      <td>Centro de Convenciones de Indiana</td>\n",
       "      <td>Indianápolis, Indiana</td>\n",
       "    </tr>\n",
       "    <tr>\n",
       "      <th>2</th>\n",
       "      <td>Celebration III</td>\n",
       "      <td>21-24 de abril de 2005</td>\n",
       "      <td>Indiana Convention Center</td>\n",
       "      <td>Indianápolis, Indiana</td>\n",
       "    </tr>\n",
       "    <tr>\n",
       "      <th>3</th>\n",
       "      <td>Celebration IV</td>\n",
       "      <td>24-28 de mayo de 2007</td>\n",
       "      <td>Centro de Convenciones de Los Ángeles</td>\n",
       "      <td>Los Ángeles, California</td>\n",
       "    </tr>\n",
       "    <tr>\n",
       "      <th>4</th>\n",
       "      <td>Celebration Europe I</td>\n",
       "      <td>13-15 de julio de 2007</td>\n",
       "      <td>Centro de Exposiciones ExCeL</td>\n",
       "      <td>Londres, Reino Unido</td>\n",
       "    </tr>\n",
       "    <tr>\n",
       "      <th>5</th>\n",
       "      <td>Celebration Japan</td>\n",
       "      <td>19-21 de julio de 2008</td>\n",
       "      <td>Makuhari Messe</td>\n",
       "      <td>Chiba, Japón</td>\n",
       "    </tr>\n",
       "    <tr>\n",
       "      <th>6</th>\n",
       "      <td>Celebration V</td>\n",
       "      <td>12-15 de agosto de 2010</td>\n",
       "      <td>Orange County Convention Center</td>\n",
       "      <td>Orlando, Florida</td>\n",
       "    </tr>\n",
       "    <tr>\n",
       "      <th>7</th>\n",
       "      <td>Celebration VI</td>\n",
       "      <td>16-19 de agosto de 2012</td>\n",
       "      <td>Orange County Convention Center</td>\n",
       "      <td>Orlando, Florida</td>\n",
       "    </tr>\n",
       "    <tr>\n",
       "      <th>8</th>\n",
       "      <td>Celebration Europe II</td>\n",
       "      <td>26-28 de julio de 2013</td>\n",
       "      <td>Messe Essen</td>\n",
       "      <td>Essen, Alemania</td>\n",
       "    </tr>\n",
       "    <tr>\n",
       "      <th>9</th>\n",
       "      <td>Celebration Anaheim</td>\n",
       "      <td>16-19 de abril de 2015</td>\n",
       "      <td>Centro de Convenciones de Anaheim</td>\n",
       "      <td>Anaheim, California</td>\n",
       "    </tr>\n",
       "    <tr>\n",
       "      <th>10</th>\n",
       "      <td>Celebration Europe III</td>\n",
       "      <td>15-17 de julio de 2016</td>\n",
       "      <td>Centro de Exposiciones ExCeL</td>\n",
       "      <td>Londres, Reino Unido</td>\n",
       "    </tr>\n",
       "    <tr>\n",
       "      <th>11</th>\n",
       "      <td>Celebration VII</td>\n",
       "      <td>13-16 de abril de 2017</td>\n",
       "      <td>Orange County Convention Center</td>\n",
       "      <td>Orlando, Florida</td>\n",
       "    </tr>\n",
       "    <tr>\n",
       "      <th>12</th>\n",
       "      <td>Celebration VIII</td>\n",
       "      <td>11-15 de abril de 2019</td>\n",
       "      <td>McCormick Place</td>\n",
       "      <td>Chicago, Illinois</td>\n",
       "    </tr>\n",
       "    <tr>\n",
       "      <th>13</th>\n",
       "      <td>Celebration Anaheim II</td>\n",
       "      <td>18-21 de agosto de 2022</td>\n",
       "      <td>Centro de Convenciones de Anaheim</td>\n",
       "      <td>Anaheim, California</td>\n",
       "    </tr>\n",
       "  </tbody>\n",
       "</table>\n",
       "</div>"
      ],
      "text/plain": [
       "                    Nombre                          Fecha  \\\n",
       "0            Celebration I  30 de abril-2 de mayo de 1999   \n",
       "1           Celebration II            3-5 de mayo de 2002   \n",
       "2          Celebration III         21-24 de abril de 2005   \n",
       "3           Celebration IV          24-28 de mayo de 2007   \n",
       "4     Celebration Europe I         13-15 de julio de 2007   \n",
       "5        Celebration Japan         19-21 de julio de 2008   \n",
       "6            Celebration V        12-15 de agosto de 2010   \n",
       "7           Celebration VI        16-19 de agosto de 2012   \n",
       "8    Celebration Europe II         26-28 de julio de 2013   \n",
       "9      Celebration Anaheim         16-19 de abril de 2015   \n",
       "10  Celebration Europe III         15-17 de julio de 2016   \n",
       "11         Celebration VII         13-16 de abril de 2017   \n",
       "12        Celebration VIII         11-15 de abril de 2019   \n",
       "13  Celebration Anaheim II        18-21 de agosto de 2022   \n",
       "\n",
       "                                          Lugar                   Ciudad  \n",
       "0   Wings Over the Rockies Air and Space Museum         Denver, Colorado  \n",
       "1             Centro de Convenciones de Indiana    Indianápolis, Indiana  \n",
       "2                     Indiana Convention Center    Indianápolis, Indiana  \n",
       "3         Centro de Convenciones de Los Ángeles  Los Ángeles, California  \n",
       "4                  Centro de Exposiciones ExCeL     Londres, Reino Unido  \n",
       "5                                Makuhari Messe             Chiba, Japón  \n",
       "6               Orange County Convention Center         Orlando, Florida  \n",
       "7               Orange County Convention Center         Orlando, Florida  \n",
       "8                                   Messe Essen          Essen, Alemania  \n",
       "9             Centro de Convenciones de Anaheim      Anaheim, California  \n",
       "10                 Centro de Exposiciones ExCeL     Londres, Reino Unido  \n",
       "11              Orange County Convention Center         Orlando, Florida  \n",
       "12                              McCormick Place        Chicago, Illinois  \n",
       "13            Centro de Convenciones de Anaheim      Anaheim, California  "
      ]
     },
     "execution_count": 36,
     "metadata": {},
     "output_type": "execute_result"
    }
   ],
   "source": [
    "dfs[9]"
   ]
  },
  {
   "cell_type": "markdown",
   "metadata": {
    "id": "EpT48am54rTa"
   },
   "source": [
    "Fantástico! Pandas, como siempre, da la mejor solución cuando se trata de trabajar con tablas.\n",
    "\n",
    "<br>\n",
    "\n",
    "## 1.5.5. Scraping contenido dinámico con Selenium\n",
    "\n",
    "Selenium es una herramienta creada originalmente para testear aplicaciones web a través del propio navegador controlado desde Python y Java. Permite clicar los botones, rellenar formularios...\n",
    "\n",
    "Aunque no es recomendable, se puede utilizar Selenium desde Colab. Para ello, primero hay que instalar algunos paquetes."
   ]
  },
  {
   "cell_type": "code",
   "execution_count": 37,
   "metadata": {},
   "outputs": [],
   "source": [
    "# !pip install selenium"
   ]
  },
  {
   "cell_type": "code",
   "execution_count": 38,
   "metadata": {
    "id": "FFJH5YJH4rTa"
   },
   "outputs": [],
   "source": [
    "from IPython import get_ipython\n",
    "if 'google.colab' in str(get_ipython()):\n",
    "  # instalar drivers\n",
    "  !apt install chromium-chromedriver\n",
    "  !cp /usr/lib/chromium-browser/chromedriver /usr/bin\n",
    "  !pip install selenium"
   ]
  },
  {
   "cell_type": "markdown",
   "metadata": {
    "id": "TsJUDqSh4rTa"
   },
   "source": [
    "Para iniciar Selenium en local, obviamente es necesario tener instalado un navegador. Admite los navegadores principales: Chrome, Firefox, Edge, IE,  Safari y Opera.\n",
    "\n",
    "En este caso voy a utilizar Chrome pero se puede utilizar cualquier otro.\n",
    "\n",
    "También para trabajar en local, es necesario tener el webdriver correspondiente descargado y guardado en una ruta visible (p.e. dentro del PATH). Los drivers se encuentran a partir de la [página de Selenium](https://www.selenium.dev/documentation/webdriver/getting_started/install_drivers/).\n",
    "\n",
    "En el caso de Chrome puedes ir directamente al [Crome Driver](https://sites.google.com/chromium.org/driver/).\n",
    "\n",
    "Una vez descargado el driver conveniente, hay que guardarlo (una vez hayas descomprimido el fichero) en una ruta accesible. La recomendación es utilizar la ruta local donde esté guardo el notebook."
   ]
  },
  {
   "cell_type": "code",
   "execution_count": 39,
   "metadata": {
    "id": "_m9wY5Hs4rTb"
   },
   "outputs": [],
   "source": [
    "from selenium import webdriver\n",
    "from selenium.webdriver.common.by import By\n",
    "from selenium.webdriver.common.by import By\n",
    "from selenium.webdriver.common.action_chains import ActionChains\n",
    "from selenium.webdriver.support import expected_conditions\n",
    "from selenium.webdriver.support.wait import WebDriverWait\n",
    "from selenium.webdriver.common.keys import Keys\n",
    "from selenium.webdriver.common.desired_capabilities import DesiredCapabilities\n",
    "if 'google.colab' in str(get_ipython()):\n",
    "  # instalar drivers\n",
    "  options = webdriver.ChromeOptions()\n",
    "  options.add_argument('-headless')\n",
    "  options.add_argument('-no-sandbox')\n",
    "  options.add_argument('-disable-dev-shm-usage')\n",
    "  #options.headless = True\n",
    "  #options.add_argument(\"--window-size=1920,1200\")\n",
    "  driver = webdriver.Chrome('chromedriver',options=options)\n",
    "else:\n",
    "  import os\n",
    "  os.environ[\"PATH\"] = '$PATH:.'\n",
    "  #driver = webdriver.Chrome('C:/Users/usuari/Documents/masterM2/Data_Digital/chromedriver')\n",
    "  driver = webdriver.Firefox()\n",
    "  #driver = webdriver.Chrome()\n"
   ]
  },
  {
   "cell_type": "markdown",
   "metadata": {
    "id": "Wir4hWQj4rTc"
   },
   "source": [
    "<br>\n",
    "\n",
    "Si estás ejecutando en local, verás cómo se abre Chrome.\n",
    "\n",
    "A continuación, vemos cómo obtener los datos de Google.\n",
    "\n",
    "<br>"
   ]
  },
  {
   "cell_type": "code",
   "execution_count": 40,
   "metadata": {
    "id": "ytbkgDF84rTc"
   },
   "outputs": [
    {
     "name": "stdout",
     "output_type": "stream",
     "text": [
      "<html itemscope=\"\" itemtype=\"http://schema.org/WebPage\" lang=\"ca\"><head><meta charset=\"UTF-8\"><meta content=\"origin\" name=\"referrer\"><link href=\"//www.gstatic.com/images/branding/searchlogo/ico/favicon.ico\" rel=\"icon\"><meta content=\"/images/branding/googleg/1x/googleg_standard_color_128dp.png\" itemprop=\"image\"><style>@font-face{font-family:'Google Sans';font-style:normal;font-weight:400 700;font-display:optional;src:url(//fonts.gstatic.com/s/googlesans/v29/4UaGrENHsxJlGDuGo1OIlL3Awp5MKg.woff2)fo\n"
     ]
    }
   ],
   "source": [
    "driver.get(\"https://www.google.com/\")\n",
    "print(driver.page_source[:500])"
   ]
  },
  {
   "cell_type": "markdown",
   "metadata": {
    "id": "HgOhe2q_4rTd"
   },
   "source": [
    "<br>\n",
    "\n",
    "Algunos métodos relevantes.\n",
    "\n",
    "<br>\n",
    "\n",
    "- .get(url): Abrir URL\n",
    "- .find_element(By.METODO, \"elmento\") : Busca el elemento con uno de los siguientes métodos:\n",
    "   - By.CLASS_NAME: Por nombre de la clase.\n",
    "   - By.CSS_SELECTOR: Por selector CSS.\n",
    "   - By.ID: Por ID.\n",
    "   - By.LINK_TEXT: que contenga texto.\n",
    "   - By.PARTIAL_LINK_TEXT: que contenga texto parcialmente.\n",
    "   - By.NAME: Por nombre.\n",
    "   - By.TAG_NAME: Por nombre del tag.\n",
    "   - By.XPATH: Por XPATH.\n",
    "- .page_source: Devuelve el código HTML. Observa que ahora ya está resuelta la parte de html dinámico (o javascript).\n",
    "\n",
    "<br>\n",
    "\n",
    "Otras utilidades:\n",
    "\n",
    "<br>\n",
    "\n",
    "- .execute_script('nombre.javascript()') : Ejecuta javascript.\n",
    "- .save_screenshot('spam.png'): guarda la imagen.\n",
    "- .switch_to_alert(): Gestiona los pop-upps.\n",
    "- .forward() / .back(): Navegar...\n",
    "\n",
    "<br>\n",
    "\n",
    "Veamos un ejemplo de captura de productos de Star Wars devueltos por Google y que cumplen con las siguientes condiciones:\n",
    "\n",
    "<br>\n",
    "\n",
    "- Son productos nuevos\n",
    "- Valen más de 1.000 Euros.\n",
    "\n",
    "<br>\n",
    "\n",
    "Se abre la página de Google.\n",
    "\n",
    "<br>"
   ]
  },
  {
   "cell_type": "code",
   "execution_count": 41,
   "metadata": {
    "id": "BoNE7qoV4rTd"
   },
   "outputs": [],
   "source": [
    "driver.get(\"https://www.google.com/\")"
   ]
  },
  {
   "cell_type": "markdown",
   "metadata": {
    "id": "ExyfhENq4rTd"
   },
   "source": [
    "<br>\n",
    "\n",
    "Se elimina el Pop-up y se realiza la búsqueda en la tienda.\n",
    "\n",
    "<br>"
   ]
  },
  {
   "cell_type": "code",
   "execution_count": 42,
   "metadata": {
    "id": "-0GiVTnY4rTe"
   },
   "outputs": [],
   "source": [
    "try:\n",
    "  driver.find_element(By.ID, \"L2AGLb\").click()\n",
    "except:\n",
    "  print(\"Ya esta inicializada\")"
   ]
  },
  {
   "cell_type": "code",
   "execution_count": 43,
   "metadata": {
    "id": "dXCgbWuoOXwI"
   },
   "outputs": [],
   "source": [
    "driver.find_element(By.NAME, \"q\").send_keys(\"star wars compras\")"
   ]
  },
  {
   "cell_type": "code",
   "execution_count": 44,
   "metadata": {
    "id": "bc2GixPFOXwJ"
   },
   "outputs": [],
   "source": [
    "driver.find_element(By.NAME, \"q\").send_keys(Keys.ENTER)"
   ]
  },
  {
   "cell_type": "markdown",
   "metadata": {
    "id": "70sLmaK84rTg"
   },
   "source": [
    "\n",
    "> **Importante**: Debido a los requerimentos de Google es posible que tengas que resolver un reCAPTCHA manualmente...\n",
    "\n",
    "<br>\n",
    "\n",
    "Se captura el texto en html.\n",
    "\n",
    "<br>"
   ]
  },
  {
   "cell_type": "code",
   "execution_count": 46,
   "metadata": {
    "id": "CRaXOwTj4rTh"
   },
   "outputs": [],
   "source": [
    "html_text = driver.page_source"
   ]
  },
  {
   "cell_type": "markdown",
   "metadata": {
    "id": "LBv_J4h44rTi"
   },
   "source": [
    "<br>\n",
    "\n",
    "Se convierte a estructura de árbol.\n",
    "\n",
    "<br>"
   ]
  },
  {
   "cell_type": "code",
   "execution_count": 47,
   "metadata": {
    "id": "tlmxX6lw4rTj"
   },
   "outputs": [],
   "source": [
    "from lxml import html\n",
    "from lxml import cssselect\n",
    "tree = html.document_fromstring(html_text)"
   ]
  },
  {
   "cell_type": "markdown",
   "metadata": {
    "id": "gTVXPjPj4rTk"
   },
   "source": [
    "<br>\n",
    "\n",
    "Se inspecciona los productos y vemos que la parte común de su id del enlace (tag `<a>`) empiezan por la cadena de texto \"vplahcl_\".\n",
    "\n",
    "<br>"
   ]
  },
  {
   "cell_type": "code",
   "execution_count": 48,
   "metadata": {},
   "outputs": [
    {
     "data": {
      "text/plain": [
       "29"
      ]
     },
     "execution_count": 48,
     "metadata": {},
     "output_type": "execute_result"
    }
   ],
   "source": [
    "import re\n",
    "\n",
    "# get all products list\n",
    "product_tree = tree.xpath('//a[starts-with(@id,\"vplahcl_\")]')\n",
    "\n",
    "len(product_tree)\n"
   ]
  },
  {
   "cell_type": "markdown",
   "metadata": {},
   "source": [
    "Se quiere capturar, para cada \"producto\" detectado, el nombre, precio y url. Inspeccionamos su códigos css (en firefox, Selector y camino css) y urls:"
   ]
  },
  {
   "cell_type": "code",
   "execution_count": 59,
   "metadata": {},
   "outputs": [
    {
     "data": {
      "text/html": [
       "<div>\n",
       "<style scoped>\n",
       "    .dataframe tbody tr th:only-of-type {\n",
       "        vertical-align: middle;\n",
       "    }\n",
       "\n",
       "    .dataframe tbody tr th {\n",
       "        vertical-align: top;\n",
       "    }\n",
       "\n",
       "    .dataframe thead th {\n",
       "        text-align: right;\n",
       "    }\n",
       "</style>\n",
       "<table border=\"1\" class=\"dataframe\">\n",
       "  <thead>\n",
       "    <tr style=\"text-align: right;\">\n",
       "      <th></th>\n",
       "      <th>nombre</th>\n",
       "      <th>precios</th>\n",
       "      <th>href</th>\n",
       "    </tr>\n",
       "  </thead>\n",
       "  <tbody>\n",
       "    <tr>\n",
       "      <th>24</th>\n",
       "      <td>Star Wars BL Hagerman</td>\n",
       "      <td>29,99 €</td>\n",
       "      <td>https://www.amazon.es/Star-Wars-Figura-Decorat...</td>\n",
       "    </tr>\n",
       "    <tr>\n",
       "      <th>25</th>\n",
       "      <td>LEGO Nave Estelar Clase Firespray de Jango Fett</td>\n",
       "      <td>299,99 €</td>\n",
       "      <td>https://www.lego.com/es-es/product/star-wars-7...</td>\n",
       "    </tr>\n",
       "    <tr>\n",
       "      <th>26</th>\n",
       "      <td>R2-D2 tamaño real coleccionable - control remo...</td>\n",
       "      <td>6.388,12 €</td>\n",
       "      <td>https://www.ebay.es/itm/356228288255?var=0&amp;mke...</td>\n",
       "    </tr>\n",
       "    <tr>\n",
       "      <th>27</th>\n",
       "      <td>Set de 6 espadas láser telescópicas, con opcio...</td>\n",
       "      <td>7,60 €</td>\n",
       "      <td>https://onelink.shein.com/0/googlefeed_es?good...</td>\n",
       "    </tr>\n",
       "    <tr>\n",
       "      <th>28</th>\n",
       "      <td>Botella agua espada láser con luz y sonido Ana...</td>\n",
       "      <td>35,00 €</td>\n",
       "      <td>https://www.disneystore.es/botella-agua-espada...</td>\n",
       "    </tr>\n",
       "  </tbody>\n",
       "</table>\n",
       "</div>"
      ],
      "text/plain": [
       "                                               nombre     precios  \\\n",
       "24                              Star Wars BL Hagerman     29,99 €   \n",
       "25    LEGO Nave Estelar Clase Firespray de Jango Fett    299,99 €   \n",
       "26  R2-D2 tamaño real coleccionable - control remo...  6.388,12 €   \n",
       "27  Set de 6 espadas láser telescópicas, con opcio...      7,60 €   \n",
       "28  Botella agua espada láser con luz y sonido Ana...     35,00 €   \n",
       "\n",
       "                                                 href  \n",
       "24  https://www.amazon.es/Star-Wars-Figura-Decorat...  \n",
       "25  https://www.lego.com/es-es/product/star-wars-7...  \n",
       "26  https://www.ebay.es/itm/356228288255?var=0&mke...  \n",
       "27  https://onelink.shein.com/0/googlefeed_es?good...  \n",
       "28  https://www.disneystore.es/botella-agua-espada...  "
      ]
     },
     "execution_count": 59,
     "metadata": {},
     "output_type": "execute_result"
    }
   ],
   "source": [
    "# get attributes by product\n",
    "prod_list = []\n",
    "for prod in product_tree:\n",
    "    product_name_tree = prod.cssselect(\"div.ropLT > div:nth-child(1)\")\n",
    "    product_price_tree = prod.cssselect(\"div.ropLT > div:nth-child(2) > div:nth-child(1)\")\n",
    "    product_href_tree = prod.attrib['href']\n",
    "    \n",
    "    product_name = product_name_tree[0].text_content() if len(product_name_tree)>0 else None\n",
    "    product_price = product_price_tree[0].text_content() if len(product_price_tree)>0 else None\n",
    "    product_href_list = re.findall(r'(https?://\\S+)',product_href_tree) if len(product_href_tree)>0 else None\n",
    "    product_href = product_href_list[0] if len(product_href_list)>0 else None\n",
    " \n",
    "    \n",
    "    auxTxt = {'nombre':product_name,\n",
    "            'precios': product_price,\n",
    "            'href': product_href}\n",
    "    prod_list.append(auxTxt)\n",
    "\n",
    "df = pd.DataFrame(prod_list)\n",
    "\n",
    "df.tail()"
   ]
  },
  {
   "cell_type": "markdown",
   "metadata": {},
   "source": [
    "Finalmente parseamos los precios para convertirlos en variables numéricas:\n",
    "- Comprobamos la moneda (€ $ £ o ¥) y\n",
    "- Los convertimos a numéricos, suponiendo que \".\" son millares y \",\" los decimales\n"
   ]
  },
  {
   "cell_type": "code",
   "execution_count": 60,
   "metadata": {},
   "outputs": [],
   "source": [
    "currency_re = re.compile(r'[€$£¥]')           # ① símbolos admitidos\n",
    "\n",
    "def parse_price(s, millar = \".\", decimal = ','):\n",
    "    # símbolo de moneda\n",
    "    m = currency_re.search(s)\n",
    "    currency = m.group(0) if m else None\n",
    "\n",
    "    # parte numérica limpia\n",
    "    num = re.sub(r'[^\\d.,]', '', s)          # solo dígitos/puntuación\n",
    "    num = num.replace(millar, '')               # quita millares\n",
    "    num = num.replace(decimal, '.')              # coma → punto decimal\n",
    "    try:\n",
    "        value = float(num)\n",
    "    except ValueError:\n",
    "        value = float('nan')\n",
    "    return pd.Series({'moneda': currency, 'precio_num': value})\n"
   ]
  },
  {
   "cell_type": "markdown",
   "metadata": {},
   "source": [
    "> **Importante**: El patrón de decimales y millares puede variar según el país. En este caso, se ha utilizado el punto como separador decimal y la coma como separador de millares, que es común en muchos países de habla hispana. Asegúrate de ajustar el código según las convenciones locales si es necesario."
   ]
  },
  {
   "cell_type": "code",
   "execution_count": 61,
   "metadata": {
    "id": "zo-zNSEJ577v",
    "scrolled": true
   },
   "outputs": [],
   "source": [
    "df[['moneda', 'precio_num']] = df['precios'].apply(parse_price)"
   ]
  },
  {
   "cell_type": "code",
   "execution_count": 100,
   "metadata": {},
   "outputs": [
    {
     "data": {
      "text/html": [
       "<div>\n",
       "<style scoped>\n",
       "    .dataframe tbody tr th:only-of-type {\n",
       "        vertical-align: middle;\n",
       "    }\n",
       "\n",
       "    .dataframe tbody tr th {\n",
       "        vertical-align: top;\n",
       "    }\n",
       "\n",
       "    .dataframe thead th {\n",
       "        text-align: right;\n",
       "    }\n",
       "</style>\n",
       "<table border=\"1\" class=\"dataframe\">\n",
       "  <thead>\n",
       "    <tr style=\"text-align: right;\">\n",
       "      <th></th>\n",
       "      <th>nombre</th>\n",
       "      <th>precios</th>\n",
       "      <th>href</th>\n",
       "      <th>moneda</th>\n",
       "      <th>precio_num</th>\n",
       "    </tr>\n",
       "  </thead>\n",
       "  <tbody>\n",
       "    <tr>\n",
       "      <th>0</th>\n",
       "      <td>Sable De luz De Metal RGB, duelo, oscilación s...</td>\n",
       "      <td>17,69 €</td>\n",
       "      <td>https://es.aliexpress.com/item/100500669641356...</td>\n",
       "      <td>€</td>\n",
       "      <td>17.6900</td>\n",
       "    </tr>\n",
       "    <tr>\n",
       "      <th>1</th>\n",
       "      <td>Star Wars Logotipo - Lámpara personalizada con...</td>\n",
       "      <td>25,99 €</td>\n",
       "      <td>https://tallerdelcuadro.online/tienda/star-war...</td>\n",
       "      <td>€</td>\n",
       "      <td>25.9900</td>\n",
       "    </tr>\n",
       "    <tr>\n",
       "      <th>2</th>\n",
       "      <td>OSDUE Sable de Luz, Sable de Luz Retráctil 2 e...</td>\n",
       "      <td>11,59 €14 €</td>\n",
       "      <td>https://www.amazon.es/OSDUE-Retr%C3%A1ctil-Col...</td>\n",
       "      <td>€</td>\n",
       "      <td>11.5914</td>\n",
       "    </tr>\n",
       "    <tr>\n",
       "      <th>3</th>\n",
       "      <td>Sable De luz De Metal RGB, espada láser, Jugue...</td>\n",
       "      <td>17,19 €</td>\n",
       "      <td>https://es.aliexpress.com/item/100500545509462...</td>\n",
       "      <td>€</td>\n",
       "      <td>17.1900</td>\n",
       "    </tr>\n",
       "    <tr>\n",
       "      <th>4</th>\n",
       "      <td>3D LED Star Wars Luz de noche, Lámpara de ilus...</td>\n",
       "      <td>16,99 €</td>\n",
       "      <td>https://www.amazon.es/L%C3%A1mpara-ilusi%C3%B3...</td>\n",
       "      <td>€</td>\n",
       "      <td>16.9900</td>\n",
       "    </tr>\n",
       "    <tr>\n",
       "      <th>5</th>\n",
       "      <td>Reloj-despertador “Soldado imperial”</td>\n",
       "      <td>23,50 €</td>\n",
       "      <td>https://www.regalooriginal.com/reloj-despertad...</td>\n",
       "      <td>€</td>\n",
       "      <td>23.5000</td>\n",
       "    </tr>\n",
       "    <tr>\n",
       "      <th>6</th>\n",
       "      <td>1 pieza Espada láser retráctil de color aleato...</td>\n",
       "      <td>2,50 €</td>\n",
       "      <td>https://onelink.shein.com/0/googlefeed_es?good...</td>\n",
       "      <td>€</td>\n",
       "      <td>2.5000</td>\n",
       "    </tr>\n",
       "    <tr>\n",
       "      <th>7</th>\n",
       "      <td>Lámpara LED 3D Mandalorian - casco Mandalorian...</td>\n",
       "      <td>24,90 €</td>\n",
       "      <td>https://pictyourlamp.com/es/producto/lampara-l...</td>\n",
       "      <td>€</td>\n",
       "      <td>24.9000</td>\n",
       "    </tr>\n",
       "    <tr>\n",
       "      <th>8</th>\n",
       "      <td>Decoración navideña versión de actualización 7...</td>\n",
       "      <td>19,13 €21 €</td>\n",
       "      <td>https://onelink.shein.com/0/googlefeed_es?good...</td>\n",
       "      <td>€</td>\n",
       "      <td>19.1321</td>\n",
       "    </tr>\n",
       "    <tr>\n",
       "      <th>9</th>\n",
       "      <td>Figura de cristal de Swarovski de Obi-Wan Keno...</td>\n",
       "      <td>500,00 €</td>\n",
       "      <td>https://www.swarovski.com/es-ES/p-5619211/Star...</td>\n",
       "      <td>€</td>\n",
       "      <td>500.0000</td>\n",
       "    </tr>\n",
       "  </tbody>\n",
       "</table>\n",
       "</div>"
      ],
      "text/plain": [
       "                                              nombre      precios  \\\n",
       "0  Sable De luz De Metal RGB, duelo, oscilación s...      17,69 €   \n",
       "1  Star Wars Logotipo - Lámpara personalizada con...      25,99 €   \n",
       "2  OSDUE Sable de Luz, Sable de Luz Retráctil 2 e...  11,59 €14 €   \n",
       "3  Sable De luz De Metal RGB, espada láser, Jugue...      17,19 €   \n",
       "4  3D LED Star Wars Luz de noche, Lámpara de ilus...      16,99 €   \n",
       "5               Reloj-despertador “Soldado imperial”      23,50 €   \n",
       "6  1 pieza Espada láser retráctil de color aleato...       2,50 €   \n",
       "7  Lámpara LED 3D Mandalorian - casco Mandalorian...      24,90 €   \n",
       "8  Decoración navideña versión de actualización 7...  19,13 €21 €   \n",
       "9  Figura de cristal de Swarovski de Obi-Wan Keno...     500,00 €   \n",
       "\n",
       "                                                href moneda  precio_num  \n",
       "0  https://es.aliexpress.com/item/100500669641356...      €     17.6900  \n",
       "1  https://tallerdelcuadro.online/tienda/star-war...      €     25.9900  \n",
       "2  https://www.amazon.es/OSDUE-Retr%C3%A1ctil-Col...      €     11.5914  \n",
       "3  https://es.aliexpress.com/item/100500545509462...      €     17.1900  \n",
       "4  https://www.amazon.es/L%C3%A1mpara-ilusi%C3%B3...      €     16.9900  \n",
       "5  https://www.regalooriginal.com/reloj-despertad...      €     23.5000  \n",
       "6  https://onelink.shein.com/0/googlefeed_es?good...      €      2.5000  \n",
       "7  https://pictyourlamp.com/es/producto/lampara-l...      €     24.9000  \n",
       "8  https://onelink.shein.com/0/googlefeed_es?good...      €     19.1321  \n",
       "9  https://www.swarovski.com/es-ES/p-5619211/Star...      €    500.0000  "
      ]
     },
     "execution_count": 100,
     "metadata": {},
     "output_type": "execute_result"
    }
   ],
   "source": [
    "df.head(10)"
   ]
  },
  {
   "cell_type": "markdown",
   "metadata": {},
   "source": [
    "Cerramos el navegador."
   ]
  },
  {
   "cell_type": "code",
   "execution_count": 62,
   "metadata": {
    "id": "tAWGcQE3OXwO"
   },
   "outputs": [],
   "source": [
    "driver.quit()"
   ]
  },
  {
   "cell_type": "markdown",
   "metadata": {
    "id": "B_rkUFd64rTk"
   },
   "source": [
    "<br>\n",
    "\n",
    "Como ya has visto, existe un método para hacer clic.\n",
    "\n",
    "- **.click()** - click on a selected element</li>\n",
    "\n",
    "<br>\n",
    "\n",
    "Métodos para acceder a las propiedades:\n",
    "\n",
    "<br>\n",
    "\n",
    "- .location: posición x, y.\n",
    "- .parent: nodo padre.\n",
    "- .tag_name: el tag del elemento.\n",
    "- .text: texto del elemento de sus hijos.\n",
    "\n",
    "<br>\n",
    "\n",
    "- Acciones encadenadas con ActionChains.\n",
    "\n",
    "<br>\n",
    "\n",
    "En cuanto a tiempos de espera, existen dos tipos de estrategias. La implícita y la explícita.\n",
    "\n",
    "<br>\n",
    "\n",
    "- .implicitly_wait(seconds): La implícita, especifica un tiempo de espera.\n",
    "- La explícita, le dice al driver que espere hasta que se cumpla cierta condición (p.e. hasta que se cargue la página).\n",
    "\n",
    "<br>\n",
    "\n",
    "Veamos un ejemplo de código.\n",
    "\n",
    "<br>\n",
    "\n",
    "```\n",
    "try:\n",
    "  wait = webdriverwait(browser,10)\n",
    "  \n",
    "  element = wait.until(EC.element_to_be_clickable((By.ID,'someid')))\n",
    "except:\n",
    "  print 'Time out!!'\n",
    "```\n",
    "\n",
    "<br>\n",
    "\n",
    "Mira [Selecium waits](https://selenium-python.readthedocs.io/waits.html) para más información.\n",
    "\n",
    "<br>\n",
    "\n",
    "#### Otros recursos de selenium\n",
    "\n",
    "<br>\n",
    "\n",
    "- [Selenium CheatSheet](http://www.cheat-sheets.org/saved-copy/rc067-010d-selenium-1.pdf)\n",
    "\n",
    "<br>\n",
    "\n",
    "## Resumen\n",
    "\n",
    "<br>\n",
    "\n",
    "- Las expresiones regulares permiten acceder al texto mediante patrones.\n",
    "- Los selectores CSS y XPATH aseguran accesos estables a la información.\n",
    "- Para superar las barreras del html dinámico se puede utilizar un dirver que controle el navegador.\n",
    "\n",
    "<br>"
   ]
  }
 ],
 "metadata": {
  "colab": {
   "provenance": [],
   "toc_visible": true
  },
  "kernelspec": {
   "display_name": "mbdds_rpy20",
   "language": "python",
   "name": "python3"
  },
  "language_info": {
   "codemirror_mode": {
    "name": "ipython",
    "version": 3
   },
   "file_extension": ".py",
   "mimetype": "text/x-python",
   "name": "python",
   "nbconvert_exporter": "python",
   "pygments_lexer": "ipython3",
   "version": "3.9.12"
  }
 },
 "nbformat": 4,
 "nbformat_minor": 1
}
